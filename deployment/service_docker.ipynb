{
 "cells": [
  {
   "cell_type": "code",
   "execution_count": null,
   "metadata": {},
   "outputs": [],
   "source": [
    "# To call a dockerized service\n",
    "\n",
    "# 1a. Add model requirements to requirements.txt \n",
    "# These will be pip installed in the docker container.\n",
    "\n",
    "# 1b. Model files should be add to the ./model directory. \n",
    "# These will be copied into the docker image and used from there.\n",
    "# Or, this path can be changed in Dockerfile and .dockerignore\n",
    "\n",
    "# 2. In the repo parent directory run:\n",
    "# docker build -f Dockerfile . -t price_app\n",
    "# This builds the docker image. It is a bit finicky because of pip. So retry if you get error messages about wrong versions.\n",
    "\n",
    "# 3. In the repo parent directory run:\n",
    "# docker run -d -p 8080:8080 price_app\n",
    "# This spins up the container locally with the app running\n",
    "\n",
    "# 4. Run the code below to send an address to the app and get back a price\n",
    "\n"
   ]
  },
  {
   "cell_type": "code",
   "execution_count": 5,
   "metadata": {},
   "outputs": [],
   "source": [
    "import requests"
   ]
  },
  {
   "cell_type": "code",
   "execution_count": 6,
   "metadata": {},
   "outputs": [],
   "source": [
    "address = \"123 main street, usa\""
   ]
  },
  {
   "cell_type": "code",
   "execution_count": 7,
   "metadata": {},
   "outputs": [],
   "source": [
    "app_url = \"http://0.0.0.0:8080/predict\"\n",
    "response = requests.post(app_url, json={\"address\": address})\n",
    "predicted_price = response.json()[\"price\"]"
   ]
  },
  {
   "cell_type": "code",
   "execution_count": 8,
   "metadata": {},
   "outputs": [
    {
     "data": {
      "text/plain": [
       "'20'"
      ]
     },
     "execution_count": 8,
     "metadata": {},
     "output_type": "execute_result"
    }
   ],
   "source": [
    "predicted_price"
   ]
  },
  {
   "cell_type": "code",
   "execution_count": null,
   "metadata": {},
   "outputs": [],
   "source": []
  }
 ],
 "metadata": {
  "kernelspec": {
   "display_name": "Python 3.7.7 ('base')",
   "language": "python",
   "name": "python3"
  },
  "language_info": {
   "codemirror_mode": {
    "name": "ipython",
    "version": 3
   },
   "file_extension": ".py",
   "mimetype": "text/x-python",
   "name": "python",
   "nbconvert_exporter": "python",
   "pygments_lexer": "ipython3",
   "version": "3.7.7"
  },
  "orig_nbformat": 4,
  "vscode": {
   "interpreter": {
    "hash": "b288f2aaf014d71282c089c7668668b56eecfc509612ac3bf3e1ed2b0cb6ab54"
   }
  }
 },
 "nbformat": 4,
 "nbformat_minor": 2
}

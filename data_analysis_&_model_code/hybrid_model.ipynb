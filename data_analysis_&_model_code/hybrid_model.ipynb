{
 "cells": [
  {
   "cell_type": "code",
   "execution_count": 1,
   "metadata": {},
   "outputs": [],
   "source": [
    "# Import image data\n",
    "# Import numerical data\n",
    "# Hybrid model - image and numerical data, predict price\n",
    "# Try InceptionV3 model"
   ]
  },
  {
   "cell_type": "code",
   "execution_count": 2,
   "metadata": {},
   "outputs": [],
   "source": [
    "import tensorflow as tf\n",
    "from tensorflow.keras.applications.inception_v3 import InceptionV3\n",
    "from tensorflow.keras.preprocessing.image import ImageDataGenerator\n",
    "from tensorflow.keras import layers\n",
    "from tensorflow.keras import Model\n",
    "from tensorflow.keras.layers import Dense\n",
    "\n",
    "import pandas as pd\n",
    "import os\n",
    "import numpy as np\n",
    "\n",
    "import matplotlib.pyplot as plt\n",
    "\n",
    "tf.config.run_functions_eagerly(True)"
   ]
  },
  {
   "cell_type": "code",
   "execution_count": 3,
   "metadata": {},
   "outputs": [
    {
     "name": "stdout",
     "output_type": "stream",
     "text": [
      "2.5.0\n"
     ]
    }
   ],
   "source": [
    "print(tf.__version__)"
   ]
  },
  {
   "cell_type": "markdown",
   "metadata": {},
   "source": [
    "## Notes\n",
    "\n",
    "\n",
    "Priority:\n",
    "\n",
    "- Use full dataset\n",
    "- CNN model (custom defined)\n",
    "- Trim off outliers (price more than a particular threshold)\n",
    "- Scale down target column or scale down loss (custom loss)\n",
    "- Hybrid model - Definitely do this\n",
    "- Check out data generator parameters\n",
    "\n",
    "Others:\n",
    "\n",
    "- Learning rate\n",
    "- Change activation function to maybe linear?\n",
    "- Optimizers\n",
    "- Unfreezing some of the lower layers\n",
    "- More epochs - upto 50?\n",
    "- Fewer units in dense layer\n",
    "- Higher batch size (8,16)"
   ]
  },
  {
   "cell_type": "code",
   "execution_count": 5,
   "metadata": {},
   "outputs": [],
   "source": [
    "# Load the training and validation dataset and labels\n",
    "\n",
    "train_label_df = pd.read_excel(\"dataset_splits/cleaned_train_data.xlsx\")\n",
    "test_label_df = pd.read_excel(\"dataset_splits/cleaned_test_data.xlsx\")"
   ]
  },
  {
   "cell_type": "code",
   "execution_count": 6,
   "metadata": {},
   "outputs": [
    {
     "data": {
      "text/plain": [
       "Index(['pictureid', 'bathroomcnt', 'bedroomcnt', 'calculatedbathnbr',\n",
       "       'calculatedfinishedsquarefeet', 'fullbathcnt', 'garagecarcnt',\n",
       "       'garagetotalsqft', 'latitude', 'longitude', 'lotsizesquarefeet',\n",
       "       'roomcnt', 'yearbuilt', 'numberofstories', 'taxvaluedollarcnt',\n",
       "       'assessmentyear', 'propertycountylandusecode_1',\n",
       "       'propertycountylandusecode_34', 'propertycountylandusecode_38',\n",
       "       'propertycountylandusecode_96', 'propertycountylandusecode_122',\n",
       "       'propertycountylandusecode_135', 'propertylandusetypeid_246',\n",
       "       'propertylandusetypeid_247', 'propertylandusetypeid_248',\n",
       "       'propertylandusetypeid_261', 'propertylandusetypeid_266',\n",
       "       'regionidcity_5465.0', 'regionidcity_6285.0', 'regionidcity_8384.0'],\n",
       "      dtype='object')"
      ]
     },
     "execution_count": 6,
     "metadata": {},
     "output_type": "execute_result"
    }
   ],
   "source": [
    "train_label_df.columns[:30]"
   ]
  },
  {
   "cell_type": "code",
   "execution_count": 7,
   "metadata": {},
   "outputs": [
    {
     "data": {
      "text/html": [
       "<div>\n",
       "<style scoped>\n",
       "    .dataframe tbody tr th:only-of-type {\n",
       "        vertical-align: middle;\n",
       "    }\n",
       "\n",
       "    .dataframe tbody tr th {\n",
       "        vertical-align: top;\n",
       "    }\n",
       "\n",
       "    .dataframe thead th {\n",
       "        text-align: right;\n",
       "    }\n",
       "</style>\n",
       "<table border=\"1\" class=\"dataframe\">\n",
       "  <thead>\n",
       "    <tr style=\"text-align: right;\">\n",
       "      <th></th>\n",
       "      <th>pictureid</th>\n",
       "      <th>bathroomcnt</th>\n",
       "      <th>bedroomcnt</th>\n",
       "      <th>calculatedbathnbr</th>\n",
       "      <th>calculatedfinishedsquarefeet</th>\n",
       "      <th>fullbathcnt</th>\n",
       "      <th>garagecarcnt</th>\n",
       "      <th>garagetotalsqft</th>\n",
       "      <th>latitude</th>\n",
       "      <th>longitude</th>\n",
       "      <th>...</th>\n",
       "      <th>censustractandblock_60590200000000</th>\n",
       "      <th>censustractandblock_60590300000000</th>\n",
       "      <th>censustractandblock_60590400000000</th>\n",
       "      <th>censustractandblock_60590500000000</th>\n",
       "      <th>censustractandblock_60590600000000</th>\n",
       "      <th>censustractandblock_60590700000000</th>\n",
       "      <th>censustractandblock_60590800000000</th>\n",
       "      <th>censustractandblock_60590900000000</th>\n",
       "      <th>censustractandblock_60591000000000</th>\n",
       "      <th>censustractandblock_60591100000000</th>\n",
       "    </tr>\n",
       "  </thead>\n",
       "  <tbody>\n",
       "    <tr>\n",
       "      <th>0</th>\n",
       "      <td>0</td>\n",
       "      <td>5.5</td>\n",
       "      <td>5</td>\n",
       "      <td>5.5</td>\n",
       "      <td>5042</td>\n",
       "      <td>5</td>\n",
       "      <td>4</td>\n",
       "      <td>988</td>\n",
       "      <td>33509223</td>\n",
       "      <td>-117672518</td>\n",
       "      <td>...</td>\n",
       "      <td>0</td>\n",
       "      <td>0</td>\n",
       "      <td>1</td>\n",
       "      <td>0</td>\n",
       "      <td>0</td>\n",
       "      <td>0</td>\n",
       "      <td>0</td>\n",
       "      <td>0</td>\n",
       "      <td>0</td>\n",
       "      <td>0</td>\n",
       "    </tr>\n",
       "    <tr>\n",
       "      <th>1</th>\n",
       "      <td>1</td>\n",
       "      <td>1.5</td>\n",
       "      <td>3</td>\n",
       "      <td>1.5</td>\n",
       "      <td>1695</td>\n",
       "      <td>1</td>\n",
       "      <td>1</td>\n",
       "      <td>360</td>\n",
       "      <td>33820017</td>\n",
       "      <td>-117971956</td>\n",
       "      <td>...</td>\n",
       "      <td>0</td>\n",
       "      <td>0</td>\n",
       "      <td>0</td>\n",
       "      <td>0</td>\n",
       "      <td>0</td>\n",
       "      <td>0</td>\n",
       "      <td>0</td>\n",
       "      <td>1</td>\n",
       "      <td>0</td>\n",
       "      <td>0</td>\n",
       "    </tr>\n",
       "    <tr>\n",
       "      <th>2</th>\n",
       "      <td>2</td>\n",
       "      <td>2.0</td>\n",
       "      <td>4</td>\n",
       "      <td>2.0</td>\n",
       "      <td>1460</td>\n",
       "      <td>2</td>\n",
       "      <td>2</td>\n",
       "      <td>456</td>\n",
       "      <td>33677514</td>\n",
       "      <td>-117954806</td>\n",
       "      <td>...</td>\n",
       "      <td>0</td>\n",
       "      <td>0</td>\n",
       "      <td>0</td>\n",
       "      <td>0</td>\n",
       "      <td>0</td>\n",
       "      <td>0</td>\n",
       "      <td>0</td>\n",
       "      <td>0</td>\n",
       "      <td>1</td>\n",
       "      <td>0</td>\n",
       "    </tr>\n",
       "    <tr>\n",
       "      <th>3</th>\n",
       "      <td>3</td>\n",
       "      <td>1.0</td>\n",
       "      <td>2</td>\n",
       "      <td>1.0</td>\n",
       "      <td>1296</td>\n",
       "      <td>1</td>\n",
       "      <td>1</td>\n",
       "      <td>288</td>\n",
       "      <td>33744721</td>\n",
       "      <td>-117863804</td>\n",
       "      <td>...</td>\n",
       "      <td>0</td>\n",
       "      <td>0</td>\n",
       "      <td>0</td>\n",
       "      <td>0</td>\n",
       "      <td>0</td>\n",
       "      <td>0</td>\n",
       "      <td>1</td>\n",
       "      <td>0</td>\n",
       "      <td>0</td>\n",
       "      <td>0</td>\n",
       "    </tr>\n",
       "    <tr>\n",
       "      <th>4</th>\n",
       "      <td>4</td>\n",
       "      <td>2.0</td>\n",
       "      <td>3</td>\n",
       "      <td>2.0</td>\n",
       "      <td>1397</td>\n",
       "      <td>2</td>\n",
       "      <td>1</td>\n",
       "      <td>360</td>\n",
       "      <td>33756060</td>\n",
       "      <td>-117875860</td>\n",
       "      <td>...</td>\n",
       "      <td>0</td>\n",
       "      <td>0</td>\n",
       "      <td>0</td>\n",
       "      <td>0</td>\n",
       "      <td>0</td>\n",
       "      <td>0</td>\n",
       "      <td>1</td>\n",
       "      <td>0</td>\n",
       "      <td>0</td>\n",
       "      <td>0</td>\n",
       "    </tr>\n",
       "  </tbody>\n",
       "</table>\n",
       "<p>5 rows × 169 columns</p>\n",
       "</div>"
      ],
      "text/plain": [
       "   pictureid  bathroomcnt  bedroomcnt  calculatedbathnbr  \\\n",
       "0          0          5.5           5                5.5   \n",
       "1          1          1.5           3                1.5   \n",
       "2          2          2.0           4                2.0   \n",
       "3          3          1.0           2                1.0   \n",
       "4          4          2.0           3                2.0   \n",
       "\n",
       "   calculatedfinishedsquarefeet  fullbathcnt  garagecarcnt  garagetotalsqft  \\\n",
       "0                          5042            5             4              988   \n",
       "1                          1695            1             1              360   \n",
       "2                          1460            2             2              456   \n",
       "3                          1296            1             1              288   \n",
       "4                          1397            2             1              360   \n",
       "\n",
       "   latitude  longitude  ...  censustractandblock_60590200000000  \\\n",
       "0  33509223 -117672518  ...                                   0   \n",
       "1  33820017 -117971956  ...                                   0   \n",
       "2  33677514 -117954806  ...                                   0   \n",
       "3  33744721 -117863804  ...                                   0   \n",
       "4  33756060 -117875860  ...                                   0   \n",
       "\n",
       "   censustractandblock_60590300000000  censustractandblock_60590400000000  \\\n",
       "0                                   0                                   1   \n",
       "1                                   0                                   0   \n",
       "2                                   0                                   0   \n",
       "3                                   0                                   0   \n",
       "4                                   0                                   0   \n",
       "\n",
       "   censustractandblock_60590500000000  censustractandblock_60590600000000  \\\n",
       "0                                   0                                   0   \n",
       "1                                   0                                   0   \n",
       "2                                   0                                   0   \n",
       "3                                   0                                   0   \n",
       "4                                   0                                   0   \n",
       "\n",
       "   censustractandblock_60590700000000  censustractandblock_60590800000000  \\\n",
       "0                                   0                                   0   \n",
       "1                                   0                                   0   \n",
       "2                                   0                                   0   \n",
       "3                                   0                                   1   \n",
       "4                                   0                                   1   \n",
       "\n",
       "   censustractandblock_60590900000000  censustractandblock_60591000000000  \\\n",
       "0                                   0                                   0   \n",
       "1                                   1                                   0   \n",
       "2                                   0                                   1   \n",
       "3                                   0                                   0   \n",
       "4                                   0                                   0   \n",
       "\n",
       "   censustractandblock_60591100000000  \n",
       "0                                   0  \n",
       "1                                   0  \n",
       "2                                   0  \n",
       "3                                   0  \n",
       "4                                   0  \n",
       "\n",
       "[5 rows x 169 columns]"
      ]
     },
     "execution_count": 7,
     "metadata": {},
     "output_type": "execute_result"
    }
   ],
   "source": [
    "train_label_df.head()"
   ]
  },
  {
   "cell_type": "code",
   "execution_count": 9,
   "metadata": {},
   "outputs": [],
   "source": [
    "train_label_df[\"target_scaled_down\"] = train_label_df[\"taxvaluedollarcnt\"]/1e5\n",
    "test_label_df[\"target_scaled_down\"] = test_label_df[\"taxvaluedollarcnt\"]/1e5"
   ]
  },
  {
   "cell_type": "code",
   "execution_count": 10,
   "metadata": {},
   "outputs": [
    {
     "data": {
      "text/plain": [
       "216.44655"
      ]
     },
     "execution_count": 10,
     "metadata": {},
     "output_type": "execute_result"
    }
   ],
   "source": [
    "train_label_df[\"target_scaled_down\"].max()"
   ]
  },
  {
   "cell_type": "code",
   "execution_count": 11,
   "metadata": {},
   "outputs": [
    {
     "name": "stdout",
     "output_type": "stream",
     "text": [
      "26.647402400000004\n"
     ]
    }
   ],
   "source": [
    "# Pick threshold to cut off outliers\n",
    "\n",
    "threshold_value_saved = np.percentile(np.array(train_label_df[\"target_scaled_down\"]), 99)\n",
    "print(threshold_value_saved)"
   ]
  },
  {
   "cell_type": "code",
   "execution_count": 10,
   "metadata": {},
   "outputs": [],
   "source": [
    "# 10,000,000"
   ]
  },
  {
   "cell_type": "code",
   "execution_count": 12,
   "metadata": {},
   "outputs": [],
   "source": [
    "# Removing outliers\n",
    "train_label_df = train_label_df.loc[train_label_df[\"target_scaled_down\"] < threshold_value_saved]\n",
    "test_label_df = test_label_df.loc[test_label_df[\"target_scaled_down\"] < threshold_value_saved]"
   ]
  },
  {
   "cell_type": "code",
   "execution_count": 13,
   "metadata": {},
   "outputs": [
    {
     "name": "stdout",
     "output_type": "stream",
     "text": [
      "Train df: 14849, test df: 4955\n"
     ]
    }
   ],
   "source": [
    "print(f\"Train df: {len(train_label_df)}, test df: {len(test_label_df)}\")"
   ]
  },
  {
   "cell_type": "code",
   "execution_count": 14,
   "metadata": {},
   "outputs": [
    {
     "data": {
      "text/plain": [
       "(14849, 170)"
      ]
     },
     "execution_count": 14,
     "metadata": {},
     "output_type": "execute_result"
    }
   ],
   "source": [
    "train_label_df.shape"
   ]
  },
  {
   "cell_type": "code",
   "execution_count": 15,
   "metadata": {},
   "outputs": [],
   "source": [
    "y_training = np.array(train_label_df[\"target_scaled_down\"])"
   ]
  },
  {
   "cell_type": "code",
   "execution_count": 16,
   "metadata": {},
   "outputs": [],
   "source": [
    "X_training_df = train_label_df.drop(columns = [\"pictureid\", \"taxvaluedollarcnt\", \"target_scaled_down\"], axis = 1, errors='ignore')"
   ]
  },
  {
   "cell_type": "code",
   "execution_count": 17,
   "metadata": {},
   "outputs": [
    {
     "data": {
      "text/plain": [
       "(14849,)"
      ]
     },
     "execution_count": 17,
     "metadata": {},
     "output_type": "execute_result"
    }
   ],
   "source": [
    "y_training.shape"
   ]
  },
  {
   "cell_type": "code",
   "execution_count": 17,
   "metadata": {},
   "outputs": [],
   "source": [
    "#list(X_training_df.columns)"
   ]
  },
  {
   "cell_type": "code",
   "execution_count": 18,
   "metadata": {},
   "outputs": [
    {
     "data": {
      "text/plain": [
       "(14849, 167)"
      ]
     },
     "execution_count": 18,
     "metadata": {},
     "output_type": "execute_result"
    }
   ],
   "source": [
    "X_training_df.shape"
   ]
  },
  {
   "cell_type": "code",
   "execution_count": 19,
   "metadata": {},
   "outputs": [
    {
     "data": {
      "text/plain": [
       "StandardScaler()"
      ]
     },
     "execution_count": 19,
     "metadata": {},
     "output_type": "execute_result"
    }
   ],
   "source": [
    "# Scaling the dataframe\n",
    "from sklearn.preprocessing import StandardScaler\n",
    "\n",
    "scaler = StandardScaler()\n",
    "scaler.fit(X_training_df.loc[:, ['bathroomcnt',\n",
    " 'bedroomcnt',\n",
    " 'calculatedbathnbr',\n",
    " 'calculatedfinishedsquarefeet',\n",
    " 'fullbathcnt',\n",
    " 'garagecarcnt',\n",
    " 'garagetotalsqft',\n",
    " 'latitude',\n",
    " 'longitude',\n",
    " 'lotsizesquarefeet',\n",
    " 'roomcnt',\n",
    " 'yearbuilt',\n",
    " 'numberofstories',\n",
    " 'assessmentyear']])"
   ]
  },
  {
   "cell_type": "code",
   "execution_count": 20,
   "metadata": {},
   "outputs": [
    {
     "data": {
      "text/plain": [
       "array([ 2.40767055e+00,  3.47228770e+00,  2.40767055e+00,  2.00388255e+03,\n",
       "        2.24001616e+00,  1.89655869e+00,  4.74237996e+02,  3.37280968e+07,\n",
       "       -1.17851247e+08,  7.36668355e+03,  5.20796013e+00,  1.97171028e+03,\n",
       "        1.29678766e+00,  2.01599993e+03])"
      ]
     },
     "execution_count": 20,
     "metadata": {},
     "output_type": "execute_result"
    }
   ],
   "source": [
    "scaler.mean_"
   ]
  },
  {
   "cell_type": "code",
   "execution_count": 21,
   "metadata": {},
   "outputs": [],
   "source": [
    "non_one_hot_array = scaler.transform(X_training_df.loc[:, ['bathroomcnt',\n",
    " 'bedroomcnt',\n",
    " 'calculatedbathnbr',\n",
    " 'calculatedfinishedsquarefeet',\n",
    " 'fullbathcnt',\n",
    " 'garagecarcnt',\n",
    " 'garagetotalsqft',\n",
    " 'latitude',\n",
    " 'longitude',\n",
    " 'lotsizesquarefeet',\n",
    " 'roomcnt',\n",
    " 'yearbuilt',\n",
    " 'numberofstories',\n",
    " 'assessmentyear']])"
   ]
  },
  {
   "cell_type": "code",
   "execution_count": 22,
   "metadata": {},
   "outputs": [],
   "source": [
    "X_training = np.array(X_training_df)"
   ]
  },
  {
   "cell_type": "code",
   "execution_count": 23,
   "metadata": {},
   "outputs": [
    {
     "data": {
      "text/plain": [
       "(14849, 167)"
      ]
     },
     "execution_count": 23,
     "metadata": {},
     "output_type": "execute_result"
    }
   ],
   "source": [
    "X_training.shape"
   ]
  },
  {
   "cell_type": "code",
   "execution_count": 24,
   "metadata": {},
   "outputs": [],
   "source": [
    "one_hot_array = X_training[:,14:]"
   ]
  },
  {
   "cell_type": "code",
   "execution_count": 25,
   "metadata": {},
   "outputs": [
    {
     "data": {
      "text/plain": [
       "(14849, 153)"
      ]
     },
     "execution_count": 25,
     "metadata": {},
     "output_type": "execute_result"
    }
   ],
   "source": [
    "one_hot_array.shape"
   ]
  },
  {
   "cell_type": "code",
   "execution_count": 26,
   "metadata": {},
   "outputs": [
    {
     "data": {
      "text/plain": [
       "(14849, 14)"
      ]
     },
     "execution_count": 26,
     "metadata": {},
     "output_type": "execute_result"
    }
   ],
   "source": [
    "non_one_hot_array.shape"
   ]
  },
  {
   "cell_type": "code",
   "execution_count": 27,
   "metadata": {},
   "outputs": [],
   "source": [
    "X_training_final = np.concatenate((non_one_hot_array, one_hot_array), axis=1)"
   ]
  },
  {
   "cell_type": "code",
   "execution_count": 28,
   "metadata": {},
   "outputs": [
    {
     "data": {
      "text/plain": [
       "(14849, 167)"
      ]
     },
     "execution_count": 28,
     "metadata": {},
     "output_type": "execute_result"
    }
   ],
   "source": [
    "X_training_final.shape"
   ]
  },
  {
   "cell_type": "code",
   "execution_count": 29,
   "metadata": {},
   "outputs": [
    {
     "data": {
      "text/html": [
       "<div>\n",
       "<style scoped>\n",
       "    .dataframe tbody tr th:only-of-type {\n",
       "        vertical-align: middle;\n",
       "    }\n",
       "\n",
       "    .dataframe tbody tr th {\n",
       "        vertical-align: top;\n",
       "    }\n",
       "\n",
       "    .dataframe thead th {\n",
       "        text-align: right;\n",
       "    }\n",
       "</style>\n",
       "<table border=\"1\" class=\"dataframe\">\n",
       "  <thead>\n",
       "    <tr style=\"text-align: right;\">\n",
       "      <th></th>\n",
       "      <th>bathroomcnt</th>\n",
       "      <th>bedroomcnt</th>\n",
       "      <th>calculatedbathnbr</th>\n",
       "      <th>calculatedfinishedsquarefeet</th>\n",
       "      <th>fullbathcnt</th>\n",
       "      <th>garagecarcnt</th>\n",
       "      <th>garagetotalsqft</th>\n",
       "      <th>latitude</th>\n",
       "      <th>longitude</th>\n",
       "      <th>lotsizesquarefeet</th>\n",
       "      <th>...</th>\n",
       "      <th>censustractandblock_60590200000000</th>\n",
       "      <th>censustractandblock_60590300000000</th>\n",
       "      <th>censustractandblock_60590400000000</th>\n",
       "      <th>censustractandblock_60590500000000</th>\n",
       "      <th>censustractandblock_60590600000000</th>\n",
       "      <th>censustractandblock_60590700000000</th>\n",
       "      <th>censustractandblock_60590800000000</th>\n",
       "      <th>censustractandblock_60590900000000</th>\n",
       "      <th>censustractandblock_60591000000000</th>\n",
       "      <th>censustractandblock_60591100000000</th>\n",
       "    </tr>\n",
       "  </thead>\n",
       "  <tbody>\n",
       "    <tr>\n",
       "      <th>0</th>\n",
       "      <td>5.5</td>\n",
       "      <td>5</td>\n",
       "      <td>5.5</td>\n",
       "      <td>5042</td>\n",
       "      <td>5</td>\n",
       "      <td>4</td>\n",
       "      <td>988</td>\n",
       "      <td>33509223</td>\n",
       "      <td>-117672518</td>\n",
       "      <td>29899</td>\n",
       "      <td>...</td>\n",
       "      <td>0</td>\n",
       "      <td>0</td>\n",
       "      <td>1</td>\n",
       "      <td>0</td>\n",
       "      <td>0</td>\n",
       "      <td>0</td>\n",
       "      <td>0</td>\n",
       "      <td>0</td>\n",
       "      <td>0</td>\n",
       "      <td>0</td>\n",
       "    </tr>\n",
       "    <tr>\n",
       "      <th>1</th>\n",
       "      <td>1.5</td>\n",
       "      <td>3</td>\n",
       "      <td>1.5</td>\n",
       "      <td>1695</td>\n",
       "      <td>1</td>\n",
       "      <td>1</td>\n",
       "      <td>360</td>\n",
       "      <td>33820017</td>\n",
       "      <td>-117971956</td>\n",
       "      <td>7568</td>\n",
       "      <td>...</td>\n",
       "      <td>0</td>\n",
       "      <td>0</td>\n",
       "      <td>0</td>\n",
       "      <td>0</td>\n",
       "      <td>0</td>\n",
       "      <td>0</td>\n",
       "      <td>0</td>\n",
       "      <td>1</td>\n",
       "      <td>0</td>\n",
       "      <td>0</td>\n",
       "    </tr>\n",
       "    <tr>\n",
       "      <th>2</th>\n",
       "      <td>2.0</td>\n",
       "      <td>4</td>\n",
       "      <td>2.0</td>\n",
       "      <td>1460</td>\n",
       "      <td>2</td>\n",
       "      <td>2</td>\n",
       "      <td>456</td>\n",
       "      <td>33677514</td>\n",
       "      <td>-117954806</td>\n",
       "      <td>6120</td>\n",
       "      <td>...</td>\n",
       "      <td>0</td>\n",
       "      <td>0</td>\n",
       "      <td>0</td>\n",
       "      <td>0</td>\n",
       "      <td>0</td>\n",
       "      <td>0</td>\n",
       "      <td>0</td>\n",
       "      <td>0</td>\n",
       "      <td>1</td>\n",
       "      <td>0</td>\n",
       "    </tr>\n",
       "    <tr>\n",
       "      <th>3</th>\n",
       "      <td>1.0</td>\n",
       "      <td>2</td>\n",
       "      <td>1.0</td>\n",
       "      <td>1296</td>\n",
       "      <td>1</td>\n",
       "      <td>1</td>\n",
       "      <td>288</td>\n",
       "      <td>33744721</td>\n",
       "      <td>-117863804</td>\n",
       "      <td>6750</td>\n",
       "      <td>...</td>\n",
       "      <td>0</td>\n",
       "      <td>0</td>\n",
       "      <td>0</td>\n",
       "      <td>0</td>\n",
       "      <td>0</td>\n",
       "      <td>0</td>\n",
       "      <td>1</td>\n",
       "      <td>0</td>\n",
       "      <td>0</td>\n",
       "      <td>0</td>\n",
       "    </tr>\n",
       "    <tr>\n",
       "      <th>4</th>\n",
       "      <td>2.0</td>\n",
       "      <td>3</td>\n",
       "      <td>2.0</td>\n",
       "      <td>1397</td>\n",
       "      <td>2</td>\n",
       "      <td>1</td>\n",
       "      <td>360</td>\n",
       "      <td>33756060</td>\n",
       "      <td>-117875860</td>\n",
       "      <td>6911</td>\n",
       "      <td>...</td>\n",
       "      <td>0</td>\n",
       "      <td>0</td>\n",
       "      <td>0</td>\n",
       "      <td>0</td>\n",
       "      <td>0</td>\n",
       "      <td>0</td>\n",
       "      <td>1</td>\n",
       "      <td>0</td>\n",
       "      <td>0</td>\n",
       "      <td>0</td>\n",
       "    </tr>\n",
       "    <tr>\n",
       "      <th>5</th>\n",
       "      <td>2.0</td>\n",
       "      <td>3</td>\n",
       "      <td>2.0</td>\n",
       "      <td>1604</td>\n",
       "      <td>2</td>\n",
       "      <td>2</td>\n",
       "      <td>430</td>\n",
       "      <td>33798257</td>\n",
       "      <td>-117826688</td>\n",
       "      <td>6120</td>\n",
       "      <td>...</td>\n",
       "      <td>0</td>\n",
       "      <td>0</td>\n",
       "      <td>0</td>\n",
       "      <td>0</td>\n",
       "      <td>0</td>\n",
       "      <td>0</td>\n",
       "      <td>1</td>\n",
       "      <td>0</td>\n",
       "      <td>0</td>\n",
       "      <td>0</td>\n",
       "    </tr>\n",
       "    <tr>\n",
       "      <th>6</th>\n",
       "      <td>3.0</td>\n",
       "      <td>3</td>\n",
       "      <td>3.0</td>\n",
       "      <td>1299</td>\n",
       "      <td>3</td>\n",
       "      <td>2</td>\n",
       "      <td>440</td>\n",
       "      <td>33646644</td>\n",
       "      <td>-117593253</td>\n",
       "      <td>4000</td>\n",
       "      <td>...</td>\n",
       "      <td>0</td>\n",
       "      <td>1</td>\n",
       "      <td>0</td>\n",
       "      <td>0</td>\n",
       "      <td>0</td>\n",
       "      <td>0</td>\n",
       "      <td>0</td>\n",
       "      <td>0</td>\n",
       "      <td>0</td>\n",
       "      <td>0</td>\n",
       "    </tr>\n",
       "    <tr>\n",
       "      <th>7</th>\n",
       "      <td>3.0</td>\n",
       "      <td>3</td>\n",
       "      <td>3.0</td>\n",
       "      <td>2191</td>\n",
       "      <td>3</td>\n",
       "      <td>2</td>\n",
       "      <td>484</td>\n",
       "      <td>33613380</td>\n",
       "      <td>-117916796</td>\n",
       "      <td>2640</td>\n",
       "      <td>...</td>\n",
       "      <td>0</td>\n",
       "      <td>0</td>\n",
       "      <td>0</td>\n",
       "      <td>0</td>\n",
       "      <td>1</td>\n",
       "      <td>0</td>\n",
       "      <td>0</td>\n",
       "      <td>0</td>\n",
       "      <td>0</td>\n",
       "      <td>0</td>\n",
       "    </tr>\n",
       "    <tr>\n",
       "      <th>8</th>\n",
       "      <td>2.0</td>\n",
       "      <td>3</td>\n",
       "      <td>2.0</td>\n",
       "      <td>1059</td>\n",
       "      <td>2</td>\n",
       "      <td>2</td>\n",
       "      <td>460</td>\n",
       "      <td>33630450</td>\n",
       "      <td>-117948241</td>\n",
       "      <td>2480</td>\n",
       "      <td>...</td>\n",
       "      <td>0</td>\n",
       "      <td>0</td>\n",
       "      <td>0</td>\n",
       "      <td>0</td>\n",
       "      <td>1</td>\n",
       "      <td>0</td>\n",
       "      <td>0</td>\n",
       "      <td>0</td>\n",
       "      <td>0</td>\n",
       "      <td>0</td>\n",
       "    </tr>\n",
       "    <tr>\n",
       "      <th>9</th>\n",
       "      <td>3.0</td>\n",
       "      <td>5</td>\n",
       "      <td>3.0</td>\n",
       "      <td>2358</td>\n",
       "      <td>3</td>\n",
       "      <td>2</td>\n",
       "      <td>493</td>\n",
       "      <td>33611755</td>\n",
       "      <td>-117676417</td>\n",
       "      <td>8750</td>\n",
       "      <td>...</td>\n",
       "      <td>0</td>\n",
       "      <td>1</td>\n",
       "      <td>0</td>\n",
       "      <td>0</td>\n",
       "      <td>0</td>\n",
       "      <td>0</td>\n",
       "      <td>0</td>\n",
       "      <td>0</td>\n",
       "      <td>0</td>\n",
       "      <td>0</td>\n",
       "    </tr>\n",
       "  </tbody>\n",
       "</table>\n",
       "<p>10 rows × 167 columns</p>\n",
       "</div>"
      ],
      "text/plain": [
       "   bathroomcnt  bedroomcnt  calculatedbathnbr  calculatedfinishedsquarefeet  \\\n",
       "0          5.5           5                5.5                          5042   \n",
       "1          1.5           3                1.5                          1695   \n",
       "2          2.0           4                2.0                          1460   \n",
       "3          1.0           2                1.0                          1296   \n",
       "4          2.0           3                2.0                          1397   \n",
       "5          2.0           3                2.0                          1604   \n",
       "6          3.0           3                3.0                          1299   \n",
       "7          3.0           3                3.0                          2191   \n",
       "8          2.0           3                2.0                          1059   \n",
       "9          3.0           5                3.0                          2358   \n",
       "\n",
       "   fullbathcnt  garagecarcnt  garagetotalsqft  latitude  longitude  \\\n",
       "0            5             4              988  33509223 -117672518   \n",
       "1            1             1              360  33820017 -117971956   \n",
       "2            2             2              456  33677514 -117954806   \n",
       "3            1             1              288  33744721 -117863804   \n",
       "4            2             1              360  33756060 -117875860   \n",
       "5            2             2              430  33798257 -117826688   \n",
       "6            3             2              440  33646644 -117593253   \n",
       "7            3             2              484  33613380 -117916796   \n",
       "8            2             2              460  33630450 -117948241   \n",
       "9            3             2              493  33611755 -117676417   \n",
       "\n",
       "   lotsizesquarefeet  ...  censustractandblock_60590200000000  \\\n",
       "0              29899  ...                                   0   \n",
       "1               7568  ...                                   0   \n",
       "2               6120  ...                                   0   \n",
       "3               6750  ...                                   0   \n",
       "4               6911  ...                                   0   \n",
       "5               6120  ...                                   0   \n",
       "6               4000  ...                                   0   \n",
       "7               2640  ...                                   0   \n",
       "8               2480  ...                                   0   \n",
       "9               8750  ...                                   0   \n",
       "\n",
       "   censustractandblock_60590300000000  censustractandblock_60590400000000  \\\n",
       "0                                   0                                   1   \n",
       "1                                   0                                   0   \n",
       "2                                   0                                   0   \n",
       "3                                   0                                   0   \n",
       "4                                   0                                   0   \n",
       "5                                   0                                   0   \n",
       "6                                   1                                   0   \n",
       "7                                   0                                   0   \n",
       "8                                   0                                   0   \n",
       "9                                   1                                   0   \n",
       "\n",
       "   censustractandblock_60590500000000  censustractandblock_60590600000000  \\\n",
       "0                                   0                                   0   \n",
       "1                                   0                                   0   \n",
       "2                                   0                                   0   \n",
       "3                                   0                                   0   \n",
       "4                                   0                                   0   \n",
       "5                                   0                                   0   \n",
       "6                                   0                                   0   \n",
       "7                                   0                                   1   \n",
       "8                                   0                                   1   \n",
       "9                                   0                                   0   \n",
       "\n",
       "   censustractandblock_60590700000000  censustractandblock_60590800000000  \\\n",
       "0                                   0                                   0   \n",
       "1                                   0                                   0   \n",
       "2                                   0                                   0   \n",
       "3                                   0                                   1   \n",
       "4                                   0                                   1   \n",
       "5                                   0                                   1   \n",
       "6                                   0                                   0   \n",
       "7                                   0                                   0   \n",
       "8                                   0                                   0   \n",
       "9                                   0                                   0   \n",
       "\n",
       "   censustractandblock_60590900000000  censustractandblock_60591000000000  \\\n",
       "0                                   0                                   0   \n",
       "1                                   1                                   0   \n",
       "2                                   0                                   1   \n",
       "3                                   0                                   0   \n",
       "4                                   0                                   0   \n",
       "5                                   0                                   0   \n",
       "6                                   0                                   0   \n",
       "7                                   0                                   0   \n",
       "8                                   0                                   0   \n",
       "9                                   0                                   0   \n",
       "\n",
       "   censustractandblock_60591100000000  \n",
       "0                                   0  \n",
       "1                                   0  \n",
       "2                                   0  \n",
       "3                                   0  \n",
       "4                                   0  \n",
       "5                                   0  \n",
       "6                                   0  \n",
       "7                                   0  \n",
       "8                                   0  \n",
       "9                                   0  \n",
       "\n",
       "[10 rows x 167 columns]"
      ]
     },
     "execution_count": 29,
     "metadata": {},
     "output_type": "execute_result"
    }
   ],
   "source": [
    "X_training_df[:10]"
   ]
  },
  {
   "cell_type": "code",
   "execution_count": 30,
   "metadata": {},
   "outputs": [
    {
     "data": {
      "text/html": [
       "<div>\n",
       "<style scoped>\n",
       "    .dataframe tbody tr th:only-of-type {\n",
       "        vertical-align: middle;\n",
       "    }\n",
       "\n",
       "    .dataframe tbody tr th {\n",
       "        vertical-align: top;\n",
       "    }\n",
       "\n",
       "    .dataframe thead th {\n",
       "        text-align: right;\n",
       "    }\n",
       "</style>\n",
       "<table border=\"1\" class=\"dataframe\">\n",
       "  <thead>\n",
       "    <tr style=\"text-align: right;\">\n",
       "      <th></th>\n",
       "      <th>0</th>\n",
       "      <th>1</th>\n",
       "      <th>2</th>\n",
       "      <th>3</th>\n",
       "      <th>4</th>\n",
       "      <th>5</th>\n",
       "      <th>6</th>\n",
       "      <th>7</th>\n",
       "      <th>8</th>\n",
       "      <th>9</th>\n",
       "      <th>...</th>\n",
       "      <th>157</th>\n",
       "      <th>158</th>\n",
       "      <th>159</th>\n",
       "      <th>160</th>\n",
       "      <th>161</th>\n",
       "      <th>162</th>\n",
       "      <th>163</th>\n",
       "      <th>164</th>\n",
       "      <th>165</th>\n",
       "      <th>166</th>\n",
       "    </tr>\n",
       "  </thead>\n",
       "  <tbody>\n",
       "    <tr>\n",
       "      <th>0</th>\n",
       "      <td>3.814660</td>\n",
       "      <td>1.733492</td>\n",
       "      <td>3.814660</td>\n",
       "      <td>3.569415</td>\n",
       "      <td>3.553726</td>\n",
       "      <td>4.068480</td>\n",
       "      <td>3.428188</td>\n",
       "      <td>-1.794520</td>\n",
       "      <td>1.357159</td>\n",
       "      <td>3.101725</td>\n",
       "      <td>...</td>\n",
       "      <td>0.0</td>\n",
       "      <td>0.0</td>\n",
       "      <td>1.0</td>\n",
       "      <td>0.0</td>\n",
       "      <td>0.0</td>\n",
       "      <td>0.0</td>\n",
       "      <td>0.0</td>\n",
       "      <td>0.0</td>\n",
       "      <td>0.0</td>\n",
       "      <td>0.0</td>\n",
       "    </tr>\n",
       "    <tr>\n",
       "      <th>1</th>\n",
       "      <td>-1.119691</td>\n",
       "      <td>-0.535904</td>\n",
       "      <td>-1.119691</td>\n",
       "      <td>-0.362899</td>\n",
       "      <td>-1.596632</td>\n",
       "      <td>-1.734126</td>\n",
       "      <td>-0.762278</td>\n",
       "      <td>0.753643</td>\n",
       "      <td>-0.916594</td>\n",
       "      <td>0.027713</td>\n",
       "      <td>...</td>\n",
       "      <td>0.0</td>\n",
       "      <td>0.0</td>\n",
       "      <td>0.0</td>\n",
       "      <td>0.0</td>\n",
       "      <td>0.0</td>\n",
       "      <td>0.0</td>\n",
       "      <td>0.0</td>\n",
       "      <td>1.0</td>\n",
       "      <td>0.0</td>\n",
       "      <td>0.0</td>\n",
       "    </tr>\n",
       "    <tr>\n",
       "      <th>2</th>\n",
       "      <td>-0.502897</td>\n",
       "      <td>0.598794</td>\n",
       "      <td>-0.502897</td>\n",
       "      <td>-0.638995</td>\n",
       "      <td>-0.309042</td>\n",
       "      <td>0.200076</td>\n",
       "      <td>-0.121697</td>\n",
       "      <td>-0.414722</td>\n",
       "      <td>-0.786367</td>\n",
       "      <td>-0.171614</td>\n",
       "      <td>...</td>\n",
       "      <td>0.0</td>\n",
       "      <td>0.0</td>\n",
       "      <td>0.0</td>\n",
       "      <td>0.0</td>\n",
       "      <td>0.0</td>\n",
       "      <td>0.0</td>\n",
       "      <td>0.0</td>\n",
       "      <td>0.0</td>\n",
       "      <td>1.0</td>\n",
       "      <td>0.0</td>\n",
       "    </tr>\n",
       "    <tr>\n",
       "      <th>3</th>\n",
       "      <td>-1.736485</td>\n",
       "      <td>-1.670602</td>\n",
       "      <td>-1.736485</td>\n",
       "      <td>-0.831675</td>\n",
       "      <td>-1.596632</td>\n",
       "      <td>-1.734126</td>\n",
       "      <td>-1.242713</td>\n",
       "      <td>0.136300</td>\n",
       "      <td>-0.095353</td>\n",
       "      <td>-0.084891</td>\n",
       "      <td>...</td>\n",
       "      <td>0.0</td>\n",
       "      <td>0.0</td>\n",
       "      <td>0.0</td>\n",
       "      <td>0.0</td>\n",
       "      <td>0.0</td>\n",
       "      <td>0.0</td>\n",
       "      <td>1.0</td>\n",
       "      <td>0.0</td>\n",
       "      <td>0.0</td>\n",
       "      <td>0.0</td>\n",
       "    </tr>\n",
       "    <tr>\n",
       "      <th>4</th>\n",
       "      <td>-0.502897</td>\n",
       "      <td>-0.535904</td>\n",
       "      <td>-0.502897</td>\n",
       "      <td>-0.713013</td>\n",
       "      <td>-0.309042</td>\n",
       "      <td>-1.734126</td>\n",
       "      <td>-0.762278</td>\n",
       "      <td>0.229267</td>\n",
       "      <td>-0.186899</td>\n",
       "      <td>-0.062728</td>\n",
       "      <td>...</td>\n",
       "      <td>0.0</td>\n",
       "      <td>0.0</td>\n",
       "      <td>0.0</td>\n",
       "      <td>0.0</td>\n",
       "      <td>0.0</td>\n",
       "      <td>0.0</td>\n",
       "      <td>1.0</td>\n",
       "      <td>0.0</td>\n",
       "      <td>0.0</td>\n",
       "      <td>0.0</td>\n",
       "    </tr>\n",
       "    <tr>\n",
       "      <th>...</th>\n",
       "      <td>...</td>\n",
       "      <td>...</td>\n",
       "      <td>...</td>\n",
       "      <td>...</td>\n",
       "      <td>...</td>\n",
       "      <td>...</td>\n",
       "      <td>...</td>\n",
       "      <td>...</td>\n",
       "      <td>...</td>\n",
       "      <td>...</td>\n",
       "      <td>...</td>\n",
       "      <td>...</td>\n",
       "      <td>...</td>\n",
       "      <td>...</td>\n",
       "      <td>...</td>\n",
       "      <td>...</td>\n",
       "      <td>...</td>\n",
       "      <td>...</td>\n",
       "      <td>...</td>\n",
       "      <td>...</td>\n",
       "      <td>...</td>\n",
       "    </tr>\n",
       "    <tr>\n",
       "      <th>14844</th>\n",
       "      <td>0.113896</td>\n",
       "      <td>1.733492</td>\n",
       "      <td>0.113896</td>\n",
       "      <td>0.437192</td>\n",
       "      <td>-0.309042</td>\n",
       "      <td>0.200076</td>\n",
       "      <td>-0.228460</td>\n",
       "      <td>-0.453028</td>\n",
       "      <td>0.243860</td>\n",
       "      <td>-0.100996</td>\n",
       "      <td>...</td>\n",
       "      <td>0.0</td>\n",
       "      <td>0.0</td>\n",
       "      <td>0.0</td>\n",
       "      <td>1.0</td>\n",
       "      <td>0.0</td>\n",
       "      <td>0.0</td>\n",
       "      <td>0.0</td>\n",
       "      <td>0.0</td>\n",
       "      <td>0.0</td>\n",
       "      <td>0.0</td>\n",
       "    </tr>\n",
       "    <tr>\n",
       "      <th>14845</th>\n",
       "      <td>-0.502897</td>\n",
       "      <td>-0.535904</td>\n",
       "      <td>-0.502897</td>\n",
       "      <td>-0.302980</td>\n",
       "      <td>-0.309042</td>\n",
       "      <td>0.200076</td>\n",
       "      <td>0.105175</td>\n",
       "      <td>0.088139</td>\n",
       "      <td>-1.099314</td>\n",
       "      <td>-0.153719</td>\n",
       "      <td>...</td>\n",
       "      <td>0.0</td>\n",
       "      <td>0.0</td>\n",
       "      <td>0.0</td>\n",
       "      <td>0.0</td>\n",
       "      <td>0.0</td>\n",
       "      <td>0.0</td>\n",
       "      <td>0.0</td>\n",
       "      <td>0.0</td>\n",
       "      <td>1.0</td>\n",
       "      <td>0.0</td>\n",
       "    </tr>\n",
       "    <tr>\n",
       "      <th>14846</th>\n",
       "      <td>0.730690</td>\n",
       "      <td>0.598794</td>\n",
       "      <td>0.730690</td>\n",
       "      <td>-0.302980</td>\n",
       "      <td>0.978547</td>\n",
       "      <td>-1.734126</td>\n",
       "      <td>-0.642169</td>\n",
       "      <td>0.442257</td>\n",
       "      <td>-0.437602</td>\n",
       "      <td>-0.022532</td>\n",
       "      <td>...</td>\n",
       "      <td>0.0</td>\n",
       "      <td>0.0</td>\n",
       "      <td>0.0</td>\n",
       "      <td>0.0</td>\n",
       "      <td>0.0</td>\n",
       "      <td>0.0</td>\n",
       "      <td>0.0</td>\n",
       "      <td>1.0</td>\n",
       "      <td>0.0</td>\n",
       "      <td>0.0</td>\n",
       "    </tr>\n",
       "    <tr>\n",
       "      <th>14847</th>\n",
       "      <td>0.113896</td>\n",
       "      <td>-0.535904</td>\n",
       "      <td>0.113896</td>\n",
       "      <td>-0.207815</td>\n",
       "      <td>-0.309042</td>\n",
       "      <td>0.200076</td>\n",
       "      <td>-0.275169</td>\n",
       "      <td>1.614107</td>\n",
       "      <td>-0.076764</td>\n",
       "      <td>-0.624643</td>\n",
       "      <td>...</td>\n",
       "      <td>1.0</td>\n",
       "      <td>0.0</td>\n",
       "      <td>0.0</td>\n",
       "      <td>0.0</td>\n",
       "      <td>0.0</td>\n",
       "      <td>0.0</td>\n",
       "      <td>0.0</td>\n",
       "      <td>0.0</td>\n",
       "      <td>0.0</td>\n",
       "      <td>0.0</td>\n",
       "    </tr>\n",
       "    <tr>\n",
       "      <th>14848</th>\n",
       "      <td>-1.736485</td>\n",
       "      <td>-1.670602</td>\n",
       "      <td>-1.736485</td>\n",
       "      <td>-1.275779</td>\n",
       "      <td>-1.596632</td>\n",
       "      <td>0.200076</td>\n",
       "      <td>-0.095006</td>\n",
       "      <td>-1.257510</td>\n",
       "      <td>1.071480</td>\n",
       "      <td>-0.925147</td>\n",
       "      <td>...</td>\n",
       "      <td>0.0</td>\n",
       "      <td>0.0</td>\n",
       "      <td>1.0</td>\n",
       "      <td>0.0</td>\n",
       "      <td>0.0</td>\n",
       "      <td>0.0</td>\n",
       "      <td>0.0</td>\n",
       "      <td>0.0</td>\n",
       "      <td>0.0</td>\n",
       "      <td>0.0</td>\n",
       "    </tr>\n",
       "  </tbody>\n",
       "</table>\n",
       "<p>14849 rows × 167 columns</p>\n",
       "</div>"
      ],
      "text/plain": [
       "            0         1         2         3         4         5         6    \\\n",
       "0      3.814660  1.733492  3.814660  3.569415  3.553726  4.068480  3.428188   \n",
       "1     -1.119691 -0.535904 -1.119691 -0.362899 -1.596632 -1.734126 -0.762278   \n",
       "2     -0.502897  0.598794 -0.502897 -0.638995 -0.309042  0.200076 -0.121697   \n",
       "3     -1.736485 -1.670602 -1.736485 -0.831675 -1.596632 -1.734126 -1.242713   \n",
       "4     -0.502897 -0.535904 -0.502897 -0.713013 -0.309042 -1.734126 -0.762278   \n",
       "...         ...       ...       ...       ...       ...       ...       ...   \n",
       "14844  0.113896  1.733492  0.113896  0.437192 -0.309042  0.200076 -0.228460   \n",
       "14845 -0.502897 -0.535904 -0.502897 -0.302980 -0.309042  0.200076  0.105175   \n",
       "14846  0.730690  0.598794  0.730690 -0.302980  0.978547 -1.734126 -0.642169   \n",
       "14847  0.113896 -0.535904  0.113896 -0.207815 -0.309042  0.200076 -0.275169   \n",
       "14848 -1.736485 -1.670602 -1.736485 -1.275779 -1.596632  0.200076 -0.095006   \n",
       "\n",
       "            7         8         9    ...  157  158  159  160  161  162  163  \\\n",
       "0     -1.794520  1.357159  3.101725  ...  0.0  0.0  1.0  0.0  0.0  0.0  0.0   \n",
       "1      0.753643 -0.916594  0.027713  ...  0.0  0.0  0.0  0.0  0.0  0.0  0.0   \n",
       "2     -0.414722 -0.786367 -0.171614  ...  0.0  0.0  0.0  0.0  0.0  0.0  0.0   \n",
       "3      0.136300 -0.095353 -0.084891  ...  0.0  0.0  0.0  0.0  0.0  0.0  1.0   \n",
       "4      0.229267 -0.186899 -0.062728  ...  0.0  0.0  0.0  0.0  0.0  0.0  1.0   \n",
       "...         ...       ...       ...  ...  ...  ...  ...  ...  ...  ...  ...   \n",
       "14844 -0.453028  0.243860 -0.100996  ...  0.0  0.0  0.0  1.0  0.0  0.0  0.0   \n",
       "14845  0.088139 -1.099314 -0.153719  ...  0.0  0.0  0.0  0.0  0.0  0.0  0.0   \n",
       "14846  0.442257 -0.437602 -0.022532  ...  0.0  0.0  0.0  0.0  0.0  0.0  0.0   \n",
       "14847  1.614107 -0.076764 -0.624643  ...  1.0  0.0  0.0  0.0  0.0  0.0  0.0   \n",
       "14848 -1.257510  1.071480 -0.925147  ...  0.0  0.0  1.0  0.0  0.0  0.0  0.0   \n",
       "\n",
       "       164  165  166  \n",
       "0      0.0  0.0  0.0  \n",
       "1      1.0  0.0  0.0  \n",
       "2      0.0  1.0  0.0  \n",
       "3      0.0  0.0  0.0  \n",
       "4      0.0  0.0  0.0  \n",
       "...    ...  ...  ...  \n",
       "14844  0.0  0.0  0.0  \n",
       "14845  0.0  1.0  0.0  \n",
       "14846  1.0  0.0  0.0  \n",
       "14847  0.0  0.0  0.0  \n",
       "14848  0.0  0.0  0.0  \n",
       "\n",
       "[14849 rows x 167 columns]"
      ]
     },
     "execution_count": 30,
     "metadata": {},
     "output_type": "execute_result"
    }
   ],
   "source": [
    "pd.DataFrame(X_training_final)"
   ]
  },
  {
   "cell_type": "markdown",
   "metadata": {},
   "source": [
    "## Make validation dataset as well"
   ]
  },
  {
   "cell_type": "code",
   "execution_count": 31,
   "metadata": {},
   "outputs": [],
   "source": [
    "y_testing = np.array(test_label_df[\"target_scaled_down\"])\n",
    "X_testing_df = test_label_df.drop(columns = [\"pictureid\", \"taxvaluedollarcnt\", \"target_scaled_down\"], axis = 1, errors='ignore')\n",
    "\n",
    "non_one_hot_array_testing = scaler.transform(X_testing_df.loc[:, ['bathroomcnt',\n",
    " 'bedroomcnt',\n",
    " 'calculatedbathnbr',\n",
    " 'calculatedfinishedsquarefeet',\n",
    " 'fullbathcnt',\n",
    " 'garagecarcnt',\n",
    " 'garagetotalsqft',\n",
    " 'latitude',\n",
    " 'longitude',\n",
    " 'lotsizesquarefeet',\n",
    " 'roomcnt',\n",
    " 'yearbuilt',\n",
    " 'numberofstories',\n",
    " 'assessmentyear']])\n",
    "\n",
    "X_testing = np.array(X_testing_df)\n",
    "one_hot_array_testing = X_testing[:,14:]\n",
    "\n",
    "X_testing_final = np.concatenate((non_one_hot_array_testing, one_hot_array_testing), axis=1)"
   ]
  },
  {
   "cell_type": "markdown",
   "metadata": {},
   "source": [
    "## Hybrid Model"
   ]
  },
  {
   "cell_type": "code",
   "execution_count": 32,
   "metadata": {},
   "outputs": [],
   "source": [
    "import cv2"
   ]
  },
  {
   "cell_type": "code",
   "execution_count": 33,
   "metadata": {},
   "outputs": [
    {
     "name": "stderr",
     "output_type": "stream",
     "text": [
      "<ipython-input-33-4606324ff1c6>:1: FutureWarning: The behavior of `series[i:j]` with an integer-dtype index is deprecated. In a future version, this will be treated as *label-based* indexing, consistent with e.g. `series[i]` lookups. To retain the old behavior, use `series.iloc[i:j]`. To get the future behavior, use `series.loc[i:j]`.\n",
      "  train_label_df[\"pictureid\"][:10]\n"
     ]
    },
    {
     "data": {
      "text/plain": [
       "0     0\n",
       "1     1\n",
       "2     2\n",
       "3     3\n",
       "4     4\n",
       "5     5\n",
       "6     6\n",
       "7     8\n",
       "8    10\n",
       "9    12\n",
       "Name: pictureid, dtype: int64"
      ]
     },
     "execution_count": 33,
     "metadata": {},
     "output_type": "execute_result"
    }
   ],
   "source": [
    "train_label_df[\"pictureid\"][:10]"
   ]
  },
  {
   "cell_type": "code",
   "execution_count": 34,
   "metadata": {},
   "outputs": [],
   "source": [
    "#os.listdir(\"dataset_splits/sub_splits/all_sub_pics/train_sub_pics/\")\n",
    "pic_names_in_order = list(train_label_df[\"pictureid\"].apply(lambda x: f\"dataset_splits/all_data_pics/train_data_pics/pic_{x}.png\").values)"
   ]
  },
  {
   "cell_type": "code",
   "execution_count": 35,
   "metadata": {},
   "outputs": [
    {
     "data": {
      "text/plain": [
       "['dataset_splits/all_data_pics/train_data_pics/pic_0.png',\n",
       " 'dataset_splits/all_data_pics/train_data_pics/pic_1.png',\n",
       " 'dataset_splits/all_data_pics/train_data_pics/pic_2.png',\n",
       " 'dataset_splits/all_data_pics/train_data_pics/pic_3.png',\n",
       " 'dataset_splits/all_data_pics/train_data_pics/pic_4.png']"
      ]
     },
     "execution_count": 35,
     "metadata": {},
     "output_type": "execute_result"
    }
   ],
   "source": [
    "pic_names_in_order[:5]"
   ]
  },
  {
   "cell_type": "code",
   "execution_count": 36,
   "metadata": {},
   "outputs": [
    {
     "data": {
      "text/plain": [
       "14849"
      ]
     },
     "execution_count": 36,
     "metadata": {},
     "output_type": "execute_result"
    }
   ],
   "source": [
    "len(y_training)"
   ]
  },
  {
   "cell_type": "code",
   "execution_count": 37,
   "metadata": {},
   "outputs": [],
   "source": [
    "from tqdm import tqdm"
   ]
  },
  {
   "cell_type": "code",
   "execution_count": 38,
   "metadata": {},
   "outputs": [],
   "source": [
    "IMG_WIDTH = 400\n",
    "IMG_HEIGHT = 400\n",
    "img_folder = \"dataset_splits/all_data_pics/train_data_pics/\"\n",
    "\n",
    "def create_dataset(img_folder, pic_names_in_order):\n",
    "   \n",
    "    img_data_array=[]\n",
    "    \n",
    "    for filename in tqdm(pic_names_in_order):\n",
    "       \n",
    "        image= cv2.imread( filename, cv2.COLOR_BGR2RGB)\n",
    "        try:\n",
    "            image=cv2.resize(image, (IMG_HEIGHT, IMG_WIDTH),interpolation = cv2.INTER_AREA)\n",
    "        except:\n",
    "            break\n",
    "        image=np.array(image)\n",
    "        image = image.astype('float32')\n",
    "        image /= 255 \n",
    "        img_data_array.append(image)\n",
    "        \n",
    "    return img_data_array"
   ]
  },
  {
   "cell_type": "code",
   "execution_count": 39,
   "metadata": {},
   "outputs": [
    {
     "name": "stderr",
     "output_type": "stream",
     "text": [
      "100%|██████████| 14849/14849 [01:10<00:00, 209.62it/s]\n"
     ]
    }
   ],
   "source": [
    "img_data_array = create_dataset(img_folder, pic_names_in_order)"
   ]
  },
  {
   "cell_type": "code",
   "execution_count": 40,
   "metadata": {},
   "outputs": [
    {
     "data": {
      "text/plain": [
       "(400, 400, 3)"
      ]
     },
     "execution_count": 40,
     "metadata": {},
     "output_type": "execute_result"
    }
   ],
   "source": [
    "img_data_array[0].shape"
   ]
  },
  {
   "cell_type": "code",
   "execution_count": 41,
   "metadata": {},
   "outputs": [
    {
     "data": {
      "text/plain": [
       "14849"
      ]
     },
     "execution_count": 41,
     "metadata": {},
     "output_type": "execute_result"
    }
   ],
   "source": [
    "len(img_data_array)"
   ]
  },
  {
   "cell_type": "code",
   "execution_count": null,
   "metadata": {},
   "outputs": [],
   "source": [
    "img_data_array_final = np.array(img_data_array)"
   ]
  },
  {
   "cell_type": "code",
   "execution_count": null,
   "metadata": {},
   "outputs": [],
   "source": [
    "# Testing data\n",
    "pic_names_in_order_testing = list(test_label_df[\"pictureid\"].apply(lambda x: f\"dataset_splits/all_test_pics/test_data_pics/pic_{x}.png\").values)\n",
    "img_data_array_testing = create_dataset(img_folder = \"dataset_splits/all_test_pics/test_data_pics/\", pic_names_in_order = pic_names_in_order_testing)\n",
    "img_data_array_final_testing = np.array(img_data_array_testing)"
   ]
  },
  {
   "cell_type": "markdown",
   "metadata": {},
   "source": [
    "## Finally train the model"
   ]
  },
  {
   "cell_type": "code",
   "execution_count": null,
   "metadata": {},
   "outputs": [],
   "source": [
    "from tensorflow import keras\n",
    "from tensorflow.keras import Model, Input\n"
   ]
  },
  {
   "cell_type": "code",
   "execution_count": null,
   "metadata": {},
   "outputs": [],
   "source": [
    "from tensorflow.keras.layers import Conv2D, MaxPool2D, Dense, Flatten, concatenate\n"
   ]
  },
  {
   "cell_type": "code",
   "execution_count": null,
   "metadata": {},
   "outputs": [],
   "source": [
    "input_image = Input(shape=(400, 400, 3))\n",
    "input_features = Input(shape=(159,))\n",
    "\n",
    "# apply convolutional layers to image branch\n",
    "x = Conv2D(32, 3)(input_image)\n",
    "x = Conv2D(32, 3)(x)\n",
    "x = MaxPool2D(2)(x)\n",
    "x = Flatten()(x)\n",
    "\n",
    "# concatenate flattened image branch with input features\n",
    "concat = concatenate([x, input_features])\n",
    "\n",
    "# apply dense layers on concatenated data\n",
    "dense = Dense(64)(concat)\n",
    "output = Dense(64)(dense)\n",
    "\n",
    "\n",
    "model = Model(inputs=[input_image, input_features], outputs=output)\n"
   ]
  },
  {
   "cell_type": "code",
   "execution_count": null,
   "metadata": {},
   "outputs": [],
   "source": [
    "model.compile(loss=\"mse\", optimizer=\"adam\", metrics=[\"mse\", \"mae\"])"
   ]
  },
  {
   "cell_type": "markdown",
   "metadata": {},
   "source": [
    " To dos:\n",
    "1. Reshape the inputs into the format of (image_features, input_features, labels) to match the size in training step\n",
    "2. Not able to use data generator anymore\n"
   ]
  },
  {
   "cell_type": "code",
   "execution_count": null,
   "metadata": {},
   "outputs": [],
   "source": [
    "# # To load previous checkpoint\n",
    "\n",
    "# checkpoint_path = \"CNN_checkpoints/v1.0.0/checkpoint.hdf5\"\n",
    "\n",
    "# # Load model from checkpoint\n",
    "# try: \n",
    "#     print('** trying to load latest checkpoint')\n",
    "#     model.load_weights( checkpoint_path )\n",
    "#     print('** loaded latest checkpoint')\n",
    "# except OSError:\n",
    "#     print('** loading model from scratch')"
   ]
  },
  {
   "cell_type": "code",
   "execution_count": null,
   "metadata": {},
   "outputs": [],
   "source": [
    "checkpoint_dir = \"hybrid_checkpoints/v2.0.0\"\n",
    "\n",
    "if not os.path.exists(checkpoint_dir):\n",
    "    os.mkdir(checkpoint_dir)"
   ]
  },
  {
   "cell_type": "code",
   "execution_count": null,
   "metadata": {},
   "outputs": [],
   "source": [
    "history = model.fit(\n",
    "        [img_data_array_final ,X_training_final],  \n",
    "        y_training,\n",
    "        epochs = 15,\n",
    "        batch_size = 4,\n",
    "        steps_per_epoch = 250,\n",
    "        validation_data = [img_data_array_final_testing ,X_testing_final],\n",
    "        callbacks=[\n",
    "            tf.keras.callbacks.ModelCheckpoint( \n",
    "                filepath = f'{checkpoint_dir}/checkpoint.hdf5',\n",
    "                save_weights_only = True, \n",
    "                verbose = 1, \n",
    "                save_freq = 3000, # Save every 2000 batches/steps\n",
    "            ),\n",
    "            #tf.keras.callbacks.EarlyStopping( monitor='loss', patience=3 ),\n",
    "        ],\n",
    "        verbose=1\n",
    "         )"
   ]
  },
  {
   "cell_type": "code",
   "execution_count": null,
   "metadata": {},
   "outputs": [],
   "source": [
    "history_df = pd.DataFrame(history.history) "
   ]
  },
  {
   "cell_type": "code",
   "execution_count": null,
   "metadata": {},
   "outputs": [],
   "source": [
    "# Plot utility\n",
    "def plot_graphs(history_object_df, string):\n",
    "  plt.plot(history_object_df[string])\n",
    "\n",
    "  if \"val_loss\" in history_object_df.columns:\n",
    "    plt.plot(history_object_df['val_'+string])\n",
    "    plt.xlabel(\"Epochs\")\n",
    "    plt.ylabel(string)\n",
    "    plt.legend([string, 'val_'+string])\n",
    "    plt.show()\n",
    "\n",
    "  else:\n",
    "    plt.xlabel(\"Epochs\")\n",
    "    plt.ylabel(string)\n",
    "    plt.legend([string, 'val_'+string])\n",
    "    plt.show()"
   ]
  },
  {
   "cell_type": "code",
   "execution_count": null,
   "metadata": {},
   "outputs": [],
   "source": [
    "# # adam 50 epochs, 4 batch size\n",
    "plot_graphs(history_df, \"loss\")"
   ]
  },
  {
   "cell_type": "code",
   "execution_count": null,
   "metadata": {},
   "outputs": [],
   "source": []
  },
  {
   "cell_type": "markdown",
   "metadata": {},
   "source": [
    "## Compiling Hybrid model"
   ]
  },
  {
   "cell_type": "code",
   "execution_count": null,
   "metadata": {},
   "outputs": [],
   "source": [
    "# import tensorflow as tf\n",
    "# from tensorflow.keras.layers import Conv2D, MaxPooling2D, Flatten, Dropout, Dense, Input\n",
    "# from tensorflow.keras.models import Sequential\n",
    "\n",
    "# training = True"
   ]
  },
  {
   "cell_type": "code",
   "execution_count": null,
   "metadata": {},
   "outputs": [],
   "source": [
    "# # Hybrid model\n",
    "\n",
    "# # Numerical Layers\n",
    "\n",
    "# num_data_input = Input(shape=(159,))\n",
    "# hidden_1 = Dense(500, activation='relu')(num_data_input)\n",
    "# hidden_2 = Dense(1000, activation='relu')(hidden_1)\n",
    "# num_flatten = Flatten()(hidden_2)\n",
    "\n",
    "\n",
    "# # Image Layers\n",
    "\n",
    "# # Input\n",
    "# image_data_input = Input(shape = (400, 400, 3))\n",
    "\n",
    "# # Convolution 1\n",
    "# conv1 = tf.keras.layers.Conv2D(64,(3,3), activation=\"relu\", input_shape=(400,400, 3))(image_data_input)\n",
    "# pool1 = tf.keras.layers.MaxPooling2D(2,2)(conv1)\n",
    "\n",
    "# # Convolution 2\n",
    "# conv2 = tf.keras.layers.Conv2D(64,(3,3), activation=\"relu\")(pool1)\n",
    "# pool2 = tf.keras.layers.MaxPooling2D(2,2)(conv2)\n",
    "\n",
    "# # Convolution 3\n",
    "# conv3 = tf.keras.layers.Conv2D(128, (3,3), activation='relu')(pool2)\n",
    "# pool3 = tf.keras.layers.MaxPooling2D(2,2)(conv3)\n",
    "\n",
    "# # Convolution 3\n",
    "# conv4 = tf.keras.layers.Conv2D(128, (3,3), activation='relu')(pool3)\n",
    "# pool4 = tf.keras.layers.MaxPooling2D(2,2)(conv4)\n",
    "\n",
    "# # Flatten the results to feed into a DNN\n",
    "# image_layer = tf.keras.layers.Flatten()(pool4)\n",
    "\n",
    "# # Dropout to avoid overfitting\n",
    "# if training:\n",
    "#     image_layer = tf.keras.layers.Dropout(0.5)(image_layer)\n",
    "\n",
    "\n",
    "# # Add numerical data\n",
    "# hybrid = tf.concat([image_layer, num_flatten], axis=-1)\n",
    "# # Normalize\n",
    "# hybrid = tf.keras.layers.LayerNormalization(epsilon=1e-6)(hybrid)\n",
    "\n",
    "\n",
    "# # Final linear regression layer\n",
    "# # 512 neuron hidden layer\n",
    "# output = tf.keras.layers.Dense(512, activation='relu')(hybrid)\n",
    "\n",
    "# model = tf.keras.Model(inputs=[image_data_input, num_data_input], outputs=[output])"
   ]
  },
  {
   "cell_type": "code",
   "execution_count": null,
   "metadata": {},
   "outputs": [],
   "source": [
    "# model.compile(loss=\"mse\", optimizer=\"adam\", metrics=[\"mse\", \"mae\"])"
   ]
  },
  {
   "cell_type": "code",
   "execution_count": null,
   "metadata": {},
   "outputs": [],
   "source": [
    "# checkpoint_dir = \"hybrid_checkpoints/v1.0.0\"\n",
    "\n",
    "# if not os.path.exists(checkpoint_dir):\n",
    "#     os.mkdir(checkpoint_dir)"
   ]
  },
  {
   "cell_type": "code",
   "execution_count": null,
   "metadata": {},
   "outputs": [],
   "source": [
    "# # Train\n",
    "# history = model.fit(\n",
    "#     [train_generator, X_training_final],\n",
    "#     y_training,\n",
    "#     validation_data = validation_generator,\n",
    "#     epochs=10,\n",
    "#     steps_per_epoch=250,\n",
    "#     callbacks=[\n",
    "#         tf.keras.callbacks.ModelCheckpoint( \n",
    "#             filepath = f'{checkpoint_dir}/checkpoint.hdf5',\n",
    "#             save_weights_only = True, \n",
    "#             verbose = 1, \n",
    "#             save_freq = 2000, # Save every 2000 batches/steps\n",
    "#         ),\n",
    "#         #tf.keras.callbacks.EarlyStopping( monitor='loss', patience=3 ),\n",
    "#     ],\n",
    "#     verbose=1\n",
    "# )"
   ]
  },
  {
   "cell_type": "code",
   "execution_count": null,
   "metadata": {},
   "outputs": [],
   "source": []
  }
 ],
 "metadata": {
  "kernelspec": {
   "display_name": "Python 3",
   "language": "python",
   "name": "python3"
  },
  "language_info": {
   "codemirror_mode": {
    "name": "ipython",
    "version": 3
   },
   "file_extension": ".py",
   "mimetype": "text/x-python",
   "name": "python",
   "nbconvert_exporter": "python",
   "pygments_lexer": "ipython3",
   "version": "3.8.10"
  },
  "vscode": {
   "interpreter": {
    "hash": "e4064c52d4217ebdd4ac8db2a3cc6d888959e6a2e5c1531a765d6a5305a4c25b"
   }
  }
 },
 "nbformat": 4,
 "nbformat_minor": 4
}

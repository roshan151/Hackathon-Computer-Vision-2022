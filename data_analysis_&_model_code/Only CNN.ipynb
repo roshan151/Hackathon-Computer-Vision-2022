{
 "cells": [
  {
   "cell_type": "code",
   "execution_count": 1,
   "metadata": {},
   "outputs": [],
   "source": [
    "import tensorflow as tf\n",
    "from tensorflow.keras.applications.inception_v3 import InceptionV3\n",
    "from tensorflow.keras.preprocessing.image import ImageDataGenerator\n",
    "from tensorflow.keras import layers\n",
    "from tensorflow.keras import Model\n",
    "from tensorflow.keras.layers import Dense\n",
    "\n",
    "import pandas as pd\n",
    "import os\n",
    "import numpy as np\n",
    "\n",
    "import matplotlib.pyplot as plt"
   ]
  },
  {
   "cell_type": "code",
   "execution_count": 2,
   "metadata": {},
   "outputs": [
    {
     "name": "stdout",
     "output_type": "stream",
     "text": [
      "2.5.0\n"
     ]
    }
   ],
   "source": [
    "print(tf.__version__)"
   ]
  },
  {
   "cell_type": "markdown",
   "metadata": {},
   "source": [
    "## Notes\n",
    "\n",
    "\n",
    "Priority:\n",
    "\n",
    "- Use full dataset\n",
    "- CNN model (custom defined)\n",
    "- Trim off outliers (price more than a particular threshold)\n",
    "- Scale down target column or scale down loss (custom loss)\n",
    "- Hybrid model - Definitely do this\n",
    "- Check out data generator parameters\n",
    "\n",
    "Others:\n",
    "\n",
    "- Learning rate\n",
    "- Change activation function to maybe linear?\n",
    "- Optimizers\n",
    "- Unfreezing some of the lower layers\n",
    "- More epochs - upto 50?\n",
    "- Fewer units in dense layer\n",
    "- Higher batch size (8,16)"
   ]
  },
  {
   "cell_type": "code",
   "execution_count": 3,
   "metadata": {},
   "outputs": [],
   "source": [
    "# Load the training and validation dataset and labels\n",
    "\n",
    "train_label_df = pd.read_excel(\"dataset_splits/cleaned_train_data.xlsx\")\n",
    "test_label_df = pd.read_excel(\"dataset_splits/cleaned_test_data.xlsx\")"
   ]
  },
  {
   "cell_type": "code",
   "execution_count": 4,
   "metadata": {},
   "outputs": [
    {
     "data": {
      "text/plain": [
       "Index(['pictureid', 'bathroomcnt', 'bedroomcnt', 'calculatedbathnbr',\n",
       "       'calculatedfinishedsquarefeet', 'fullbathcnt', 'garagecarcnt',\n",
       "       'garagetotalsqft', 'latitude', 'longitude', 'lotsizesquarefeet',\n",
       "       'roomcnt', 'yearbuilt', 'numberofstories', 'taxvaluedollarcnt',\n",
       "       'assessmentyear', 'propertycountylandusecode_1',\n",
       "       'propertycountylandusecode_34', 'propertycountylandusecode_38',\n",
       "       'propertycountylandusecode_96', 'propertycountylandusecode_122',\n",
       "       'propertycountylandusecode_135', 'propertylandusetypeid_246',\n",
       "       'propertylandusetypeid_247', 'propertylandusetypeid_248',\n",
       "       'propertylandusetypeid_261', 'propertylandusetypeid_266',\n",
       "       'regionidcity_5465.0', 'regionidcity_6285.0', 'regionidcity_8384.0'],\n",
       "      dtype='object')"
      ]
     },
     "execution_count": 4,
     "metadata": {},
     "output_type": "execute_result"
    }
   ],
   "source": [
    "train_label_df.columns[:30]"
   ]
  },
  {
   "cell_type": "code",
   "execution_count": 5,
   "metadata": {},
   "outputs": [
    {
     "data": {
      "text/html": [
       "<div>\n",
       "<style scoped>\n",
       "    .dataframe tbody tr th:only-of-type {\n",
       "        vertical-align: middle;\n",
       "    }\n",
       "\n",
       "    .dataframe tbody tr th {\n",
       "        vertical-align: top;\n",
       "    }\n",
       "\n",
       "    .dataframe thead th {\n",
       "        text-align: right;\n",
       "    }\n",
       "</style>\n",
       "<table border=\"1\" class=\"dataframe\">\n",
       "  <thead>\n",
       "    <tr style=\"text-align: right;\">\n",
       "      <th></th>\n",
       "      <th>pictureid</th>\n",
       "      <th>bathroomcnt</th>\n",
       "      <th>bedroomcnt</th>\n",
       "      <th>calculatedbathnbr</th>\n",
       "      <th>calculatedfinishedsquarefeet</th>\n",
       "      <th>fullbathcnt</th>\n",
       "      <th>garagecarcnt</th>\n",
       "      <th>garagetotalsqft</th>\n",
       "      <th>latitude</th>\n",
       "      <th>longitude</th>\n",
       "      <th>...</th>\n",
       "      <th>censustractandblock_60590200000000</th>\n",
       "      <th>censustractandblock_60590300000000</th>\n",
       "      <th>censustractandblock_60590400000000</th>\n",
       "      <th>censustractandblock_60590500000000</th>\n",
       "      <th>censustractandblock_60590600000000</th>\n",
       "      <th>censustractandblock_60590700000000</th>\n",
       "      <th>censustractandblock_60590800000000</th>\n",
       "      <th>censustractandblock_60590900000000</th>\n",
       "      <th>censustractandblock_60591000000000</th>\n",
       "      <th>censustractandblock_60591100000000</th>\n",
       "    </tr>\n",
       "  </thead>\n",
       "  <tbody>\n",
       "    <tr>\n",
       "      <th>0</th>\n",
       "      <td>0</td>\n",
       "      <td>5.5</td>\n",
       "      <td>5</td>\n",
       "      <td>5.5</td>\n",
       "      <td>5042</td>\n",
       "      <td>5</td>\n",
       "      <td>4</td>\n",
       "      <td>988</td>\n",
       "      <td>33509223</td>\n",
       "      <td>-117672518</td>\n",
       "      <td>...</td>\n",
       "      <td>0</td>\n",
       "      <td>0</td>\n",
       "      <td>1</td>\n",
       "      <td>0</td>\n",
       "      <td>0</td>\n",
       "      <td>0</td>\n",
       "      <td>0</td>\n",
       "      <td>0</td>\n",
       "      <td>0</td>\n",
       "      <td>0</td>\n",
       "    </tr>\n",
       "    <tr>\n",
       "      <th>1</th>\n",
       "      <td>1</td>\n",
       "      <td>1.5</td>\n",
       "      <td>3</td>\n",
       "      <td>1.5</td>\n",
       "      <td>1695</td>\n",
       "      <td>1</td>\n",
       "      <td>1</td>\n",
       "      <td>360</td>\n",
       "      <td>33820017</td>\n",
       "      <td>-117971956</td>\n",
       "      <td>...</td>\n",
       "      <td>0</td>\n",
       "      <td>0</td>\n",
       "      <td>0</td>\n",
       "      <td>0</td>\n",
       "      <td>0</td>\n",
       "      <td>0</td>\n",
       "      <td>0</td>\n",
       "      <td>1</td>\n",
       "      <td>0</td>\n",
       "      <td>0</td>\n",
       "    </tr>\n",
       "    <tr>\n",
       "      <th>2</th>\n",
       "      <td>2</td>\n",
       "      <td>2.0</td>\n",
       "      <td>4</td>\n",
       "      <td>2.0</td>\n",
       "      <td>1460</td>\n",
       "      <td>2</td>\n",
       "      <td>2</td>\n",
       "      <td>456</td>\n",
       "      <td>33677514</td>\n",
       "      <td>-117954806</td>\n",
       "      <td>...</td>\n",
       "      <td>0</td>\n",
       "      <td>0</td>\n",
       "      <td>0</td>\n",
       "      <td>0</td>\n",
       "      <td>0</td>\n",
       "      <td>0</td>\n",
       "      <td>0</td>\n",
       "      <td>0</td>\n",
       "      <td>1</td>\n",
       "      <td>0</td>\n",
       "    </tr>\n",
       "    <tr>\n",
       "      <th>3</th>\n",
       "      <td>3</td>\n",
       "      <td>1.0</td>\n",
       "      <td>2</td>\n",
       "      <td>1.0</td>\n",
       "      <td>1296</td>\n",
       "      <td>1</td>\n",
       "      <td>1</td>\n",
       "      <td>288</td>\n",
       "      <td>33744721</td>\n",
       "      <td>-117863804</td>\n",
       "      <td>...</td>\n",
       "      <td>0</td>\n",
       "      <td>0</td>\n",
       "      <td>0</td>\n",
       "      <td>0</td>\n",
       "      <td>0</td>\n",
       "      <td>0</td>\n",
       "      <td>1</td>\n",
       "      <td>0</td>\n",
       "      <td>0</td>\n",
       "      <td>0</td>\n",
       "    </tr>\n",
       "    <tr>\n",
       "      <th>4</th>\n",
       "      <td>4</td>\n",
       "      <td>2.0</td>\n",
       "      <td>3</td>\n",
       "      <td>2.0</td>\n",
       "      <td>1397</td>\n",
       "      <td>2</td>\n",
       "      <td>1</td>\n",
       "      <td>360</td>\n",
       "      <td>33756060</td>\n",
       "      <td>-117875860</td>\n",
       "      <td>...</td>\n",
       "      <td>0</td>\n",
       "      <td>0</td>\n",
       "      <td>0</td>\n",
       "      <td>0</td>\n",
       "      <td>0</td>\n",
       "      <td>0</td>\n",
       "      <td>1</td>\n",
       "      <td>0</td>\n",
       "      <td>0</td>\n",
       "      <td>0</td>\n",
       "    </tr>\n",
       "  </tbody>\n",
       "</table>\n",
       "<p>5 rows × 169 columns</p>\n",
       "</div>"
      ],
      "text/plain": [
       "   pictureid  bathroomcnt  bedroomcnt  calculatedbathnbr  \\\n",
       "0          0          5.5           5                5.5   \n",
       "1          1          1.5           3                1.5   \n",
       "2          2          2.0           4                2.0   \n",
       "3          3          1.0           2                1.0   \n",
       "4          4          2.0           3                2.0   \n",
       "\n",
       "   calculatedfinishedsquarefeet  fullbathcnt  garagecarcnt  garagetotalsqft  \\\n",
       "0                          5042            5             4              988   \n",
       "1                          1695            1             1              360   \n",
       "2                          1460            2             2              456   \n",
       "3                          1296            1             1              288   \n",
       "4                          1397            2             1              360   \n",
       "\n",
       "   latitude  longitude  ...  censustractandblock_60590200000000  \\\n",
       "0  33509223 -117672518  ...                                   0   \n",
       "1  33820017 -117971956  ...                                   0   \n",
       "2  33677514 -117954806  ...                                   0   \n",
       "3  33744721 -117863804  ...                                   0   \n",
       "4  33756060 -117875860  ...                                   0   \n",
       "\n",
       "   censustractandblock_60590300000000  censustractandblock_60590400000000  \\\n",
       "0                                   0                                   1   \n",
       "1                                   0                                   0   \n",
       "2                                   0                                   0   \n",
       "3                                   0                                   0   \n",
       "4                                   0                                   0   \n",
       "\n",
       "   censustractandblock_60590500000000  censustractandblock_60590600000000  \\\n",
       "0                                   0                                   0   \n",
       "1                                   0                                   0   \n",
       "2                                   0                                   0   \n",
       "3                                   0                                   0   \n",
       "4                                   0                                   0   \n",
       "\n",
       "   censustractandblock_60590700000000  censustractandblock_60590800000000  \\\n",
       "0                                   0                                   0   \n",
       "1                                   0                                   0   \n",
       "2                                   0                                   0   \n",
       "3                                   0                                   1   \n",
       "4                                   0                                   1   \n",
       "\n",
       "   censustractandblock_60590900000000  censustractandblock_60591000000000  \\\n",
       "0                                   0                                   0   \n",
       "1                                   1                                   0   \n",
       "2                                   0                                   1   \n",
       "3                                   0                                   0   \n",
       "4                                   0                                   0   \n",
       "\n",
       "   censustractandblock_60591100000000  \n",
       "0                                   0  \n",
       "1                                   0  \n",
       "2                                   0  \n",
       "3                                   0  \n",
       "4                                   0  \n",
       "\n",
       "[5 rows x 169 columns]"
      ]
     },
     "execution_count": 5,
     "metadata": {},
     "output_type": "execute_result"
    }
   ],
   "source": [
    "train_label_df.head()"
   ]
  },
  {
   "cell_type": "code",
   "execution_count": 6,
   "metadata": {},
   "outputs": [],
   "source": [
    "train_label_df[\"target_scaled_down\"] = train_label_df[\"taxvaluedollarcnt\"]/1e5\n",
    "test_label_df[\"target_scaled_down\"] = test_label_df[\"taxvaluedollarcnt\"]/1e5"
   ]
  },
  {
   "cell_type": "code",
   "execution_count": 7,
   "metadata": {},
   "outputs": [
    {
     "data": {
      "text/plain": [
       "216.44655"
      ]
     },
     "execution_count": 7,
     "metadata": {},
     "output_type": "execute_result"
    }
   ],
   "source": [
    "train_label_df[\"target_scaled_down\"].max()"
   ]
  },
  {
   "cell_type": "code",
   "execution_count": 8,
   "metadata": {},
   "outputs": [
    {
     "name": "stdout",
     "output_type": "stream",
     "text": [
      "26.647402400000004\n"
     ]
    }
   ],
   "source": [
    "# Pick threshold to cut off outliers\n",
    "\n",
    "threshold_value_saved = np.percentile(np.array(train_label_df[\"target_scaled_down\"]), 99)\n",
    "print(threshold_value_saved)"
   ]
  },
  {
   "cell_type": "code",
   "execution_count": 9,
   "metadata": {},
   "outputs": [],
   "source": [
    "# 10,000,000"
   ]
  },
  {
   "cell_type": "code",
   "execution_count": 10,
   "metadata": {},
   "outputs": [],
   "source": [
    "# Removing outliers\n",
    "train_label_df = train_label_df.loc[train_label_df[\"target_scaled_down\"] < threshold_value_saved]\n",
    "test_label_df = test_label_df.loc[test_label_df[\"target_scaled_down\"] < threshold_value_saved]"
   ]
  },
  {
   "cell_type": "code",
   "execution_count": 11,
   "metadata": {},
   "outputs": [
    {
     "name": "stdout",
     "output_type": "stream",
     "text": [
      "Train df: 14849, test df: 4955\n"
     ]
    }
   ],
   "source": [
    "print(f\"Train df: {len(train_label_df)}, test df: {len(test_label_df)}\")"
   ]
  },
  {
   "cell_type": "code",
   "execution_count": 12,
   "metadata": {},
   "outputs": [],
   "source": [
    "train_datagen = ImageDataGenerator(\n",
    "    rescale = 1./255, \n",
    "    #horizontal_flip = None, \n",
    "    #fill_mode = \"nearest\", \n",
    "    #zoom_range = 2, \n",
    "    #width_shift_range = None, \n",
    "    #height_shift_range = None,\n",
    "    #rotation_range=None\n",
    ") "
   ]
  },
  {
   "cell_type": "code",
   "execution_count": 13,
   "metadata": {},
   "outputs": [],
   "source": [
    "train_label_df[\"picturepath\"] = train_label_df[\"pictureid\"].astype(str).apply(lambda x: f\"pic_{x}.png\")"
   ]
  },
  {
   "cell_type": "code",
   "execution_count": 14,
   "metadata": {},
   "outputs": [
    {
     "name": "stdout",
     "output_type": "stream",
     "text": [
      "Found 14849 validated image filenames.\n"
     ]
    }
   ],
   "source": [
    "train_generator = train_datagen.flow_from_dataframe(\n",
    "    dataframe = train_label_df, \n",
    "    directory = \"dataset_splits/all_data_pics/train_data_pics/\", \n",
    "    x_col = \"picturepath\", \n",
    "    y_col=\"target_scaled_down\", \n",
    "    class_mode = \"raw\", \n",
    "    target_size= (400, 400), \n",
    "    batch_size = 4\n",
    ")"
   ]
  },
  {
   "cell_type": "code",
   "execution_count": 15,
   "metadata": {},
   "outputs": [],
   "source": [
    "valid_datagen = ImageDataGenerator(\n",
    "    rescale = 1./255, \n",
    "    #horizontal_flip = None, \n",
    "    #fill_mode = \"nearest\", \n",
    "    #zoom_range = 2, \n",
    "    #width_shift_range = None, \n",
    "    #height_shift_range = None,\n",
    "    #rotation_range=None\n",
    ") "
   ]
  },
  {
   "cell_type": "code",
   "execution_count": 16,
   "metadata": {},
   "outputs": [],
   "source": [
    "test_label_df[\"picturepath\"] = test_label_df[\"pictureid\"].astype(str).apply(lambda x: f\"pic_{x}.png\")"
   ]
  },
  {
   "cell_type": "code",
   "execution_count": 17,
   "metadata": {},
   "outputs": [
    {
     "name": "stdout",
     "output_type": "stream",
     "text": [
      "Found 4955 validated image filenames.\n"
     ]
    }
   ],
   "source": [
    "validation_generator = valid_datagen.flow_from_dataframe(\n",
    "    dataframe = test_label_df, \n",
    "    directory = \"dataset_splits/all_data_pics/test_data_pics/\", \n",
    "    x_col = \"picturepath\", \n",
    "    y_col=\"target_scaled_down\", \n",
    "    class_mode = \"raw\", \n",
    "    target_size= (400, 400), \n",
    "    batch_size = 4\n",
    ")"
   ]
  },
  {
   "cell_type": "code",
   "execution_count": 18,
   "metadata": {},
   "outputs": [],
   "source": [
    "import tensorflow as tf"
   ]
  },
  {
   "cell_type": "code",
   "execution_count": 19,
   "metadata": {},
   "outputs": [],
   "source": [
    "from tensorflow.keras.layers import Conv2D, MaxPooling2D, Flatten, Dropout, Dense\n",
    "from tensorflow.keras.models import Sequential"
   ]
  },
  {
   "cell_type": "code",
   "execution_count": 24,
   "metadata": {},
   "outputs": [],
   "source": [
    "# Set up a CNN\n",
    "model = Sequential([\n",
    "    # Convolution (x64) with 3 bytes color, input shape of 400x400 with 3 bytes color\n",
    "    Conv2D(64,(3,3), activation=\"relu\", input_shape=(400,400, 3)),\n",
    "    MaxPooling2D(2,2),\n",
    "    # The second convolution\n",
    "    Conv2D(64, (3,3), activation='relu'),\n",
    "    MaxPooling2D(2,2),\n",
    "    # The third convolution\n",
    "    Conv2D(128, (3,3), activation='relu'),\n",
    "    MaxPooling2D(2,2),\n",
    "    # The fourth convolution\n",
    "    Conv2D(128, (3,3), activation='relu'),\n",
    "    MaxPooling2D(2,2),\n",
    "    # Flatten the results to feed into a DNN\n",
    "    Flatten(),\n",
    "    # Dropout to avoid overfitting\n",
    "    Dropout(0.5),\n",
    "    # 512 neuron hidden layer\n",
    "    Dense(512, activation='relu'),\n",
    "    # Last layer is a linear layer predicting a single continuous number (the price)\n",
    "    Dense(1, activation='linear')\n",
    "])\n",
    "\n",
    "# Compile model\n",
    "# Loss is \"mse\" for continiuous output\n",
    "\n",
    "model.compile(loss=\"mse\", optimizer=\"adam\", metrics=[\"mse\", \"mae\"])"
   ]
  },
  {
   "cell_type": "code",
   "execution_count": 21,
   "metadata": {},
   "outputs": [],
   "source": [
    "# # To load previous checkpoint\n",
    "\n",
    "# checkpoint_path = \"CNN_checkpoints/v1.0.0/checkpoint.hdf5\"\n",
    "\n",
    "# # Load model from checkpoint\n",
    "# try: \n",
    "#     print('** trying to load latest checkpoint')\n",
    "#     model.load_weights( checkpoint_path )\n",
    "#     print('** loaded latest checkpoint')\n",
    "# except OSError:\n",
    "#     print('** loading model from scratch')"
   ]
  },
  {
   "cell_type": "code",
   "execution_count": 25,
   "metadata": {},
   "outputs": [],
   "source": [
    "checkpoint_dir = \"CNN_checkpoints/v2.0.0\"\n",
    "\n",
    "if not os.path.exists(checkpoint_dir):\n",
    "    os.mkdir(checkpoint_dir)"
   ]
  },
  {
   "cell_type": "code",
   "execution_count": 26,
   "metadata": {},
   "outputs": [
    {
     "name": "stdout",
     "output_type": "stream",
     "text": [
      "Epoch 1/15\n",
      "250/250 [==============================] - 38s 149ms/step - loss: 15.2335 - mse: 15.2335 - mae: 2.7205 - val_loss: 14.2733 - val_mse: 14.2733 - val_mae: 2.6270\n",
      "Epoch 2/15\n",
      "250/250 [==============================] - 37s 148ms/step - loss: 15.9520 - mse: 15.9520 - mae: 2.7879 - val_loss: 14.1922 - val_mse: 14.1922 - val_mae: 2.5936\n",
      "Epoch 3/15\n",
      "250/250 [==============================] - 37s 147ms/step - loss: 16.0502 - mse: 16.0502 - mae: 2.7734 - val_loss: 14.0755 - val_mse: 14.0755 - val_mae: 2.5658\n",
      "Epoch 4/15\n",
      "250/250 [==============================] - 37s 148ms/step - loss: 15.0397 - mse: 15.0397 - mae: 2.7454 - val_loss: 15.6611 - val_mse: 15.6611 - val_mae: 2.5486\n",
      "Epoch 5/15\n",
      "250/250 [==============================] - 37s 148ms/step - loss: 13.7551 - mse: 13.7551 - mae: 2.5888 - val_loss: 14.4550 - val_mse: 14.4550 - val_mae: 2.8291\n",
      "Epoch 6/15\n",
      "250/250 [==============================] - 37s 149ms/step - loss: 14.9530 - mse: 14.9530 - mae: 2.7916 - val_loss: 14.7313 - val_mse: 14.7313 - val_mae: 2.8934\n",
      "Epoch 7/15\n",
      "250/250 [==============================] - 37s 149ms/step - loss: 16.3951 - mse: 16.3951 - mae: 2.8010 - val_loss: 14.1010 - val_mse: 14.1010 - val_mae: 2.6628\n",
      "Epoch 8/15\n",
      "250/250 [==============================] - 37s 149ms/step - loss: 14.9795 - mse: 14.9795 - mae: 2.7016 - val_loss: 13.9885 - val_mse: 13.9885 - val_mae: 2.5539\n",
      "Epoch 9/15\n",
      "250/250 [==============================] - 37s 150ms/step - loss: 15.7128 - mse: 15.7128 - mae: 2.7310 - val_loss: 14.8188 - val_mse: 14.8188 - val_mae: 2.4969\n",
      "Epoch 10/15\n",
      "250/250 [==============================] - 37s 148ms/step - loss: 12.3086 - mse: 12.3086 - mae: 2.5129 - val_loss: 14.3250 - val_mse: 14.3250 - val_mae: 2.4956\n",
      "Epoch 11/15\n",
      "250/250 [==============================] - 37s 150ms/step - loss: 14.9584 - mse: 14.9584 - mae: 2.7380 - val_loss: 14.2894 - val_mse: 14.2894 - val_mae: 2.5360\n",
      "Epoch 12/15\n",
      "250/250 [==============================] - ETA: 0s - loss: 11.8271 - mse: 11.8271 - mae: 2.4508\n",
      "Epoch 00012: saving model to CNN_checkpoints/v2.0.0/checkpoint.hdf5\n",
      "250/250 [==============================] - 38s 152ms/step - loss: 11.8271 - mse: 11.8271 - mae: 2.4508 - val_loss: 13.7947 - val_mse: 13.7947 - val_mae: 2.5971\n",
      "Epoch 13/15\n",
      "250/250 [==============================] - 37s 149ms/step - loss: 15.5012 - mse: 15.5012 - mae: 2.7056 - val_loss: 13.5318 - val_mse: 13.5318 - val_mae: 2.5875\n",
      "Epoch 14/15\n",
      "250/250 [==============================] - 38s 151ms/step - loss: 13.1759 - mse: 13.1759 - mae: 2.5957 - val_loss: 14.2785 - val_mse: 14.2785 - val_mae: 2.7673\n",
      "Epoch 15/15\n",
      "250/250 [==============================] - 37s 147ms/step - loss: 12.0129 - mse: 12.0129 - mae: 2.4965 - val_loss: 13.7855 - val_mse: 13.7855 - val_mae: 2.5566\n"
     ]
    }
   ],
   "source": [
    "# Train\n",
    "history = model.fit(\n",
    "    train_generator,\n",
    "    validation_data = validation_generator,\n",
    "    epochs=15,\n",
    "    steps_per_epoch=250,\n",
    "    callbacks=[\n",
    "        tf.keras.callbacks.ModelCheckpoint( \n",
    "            filepath = f'{checkpoint_dir}/checkpoint.hdf5',\n",
    "            save_weights_only = True, \n",
    "            verbose = 1, \n",
    "            save_freq = 3000, # Save every 2000 batches/steps\n",
    "        ),\n",
    "        #tf.keras.callbacks.EarlyStopping( monitor='loss', patience=3 ),\n",
    "    ],\n",
    "    verbose=1\n",
    ")"
   ]
  },
  {
   "cell_type": "code",
   "execution_count": 27,
   "metadata": {},
   "outputs": [],
   "source": [
    "history_df = pd.DataFrame(history.history) "
   ]
  },
  {
   "cell_type": "code",
   "execution_count": 28,
   "metadata": {},
   "outputs": [],
   "source": [
    "# Plot utility\n",
    "def plot_graphs(history_object_df, string):\n",
    "  plt.plot(history_object_df[string])\n",
    "\n",
    "  if \"val_loss\" in history_object_df.columns:\n",
    "    plt.plot(history_object_df['val_'+string])\n",
    "    plt.xlabel(\"Epochs\")\n",
    "    plt.ylabel(string)\n",
    "    plt.legend([string, 'val_'+string])\n",
    "    plt.show()\n",
    "\n",
    "  else:\n",
    "    plt.xlabel(\"Epochs\")\n",
    "    plt.ylabel(string)\n",
    "    plt.legend([string, 'val_'+string])\n",
    "    plt.show()"
   ]
  },
  {
   "cell_type": "code",
   "execution_count": 29,
   "metadata": {},
   "outputs": [
    {
     "data": {
      "image/png": "[encoded data removed]",
      "text/plain": [
       "<Figure size 432x288 with 1 Axes>"
      ]
     },
     "metadata": {
      "needs_background": "light"
     },
     "output_type": "display_data"
    }
   ],
   "source": [
    "# # adam 50 epochs, 4 batch size\n",
    "plot_graphs(history_df, \"loss\")"
   ]
  },
  {
   "cell_type": "code",
   "execution_count": 30,
   "metadata": {},
   "outputs": [],
   "source": [
    "# # Hybrid model\n",
    "\n",
    "# # Image Layers\n",
    "# # Convolution 1\n",
    "# conv1 = tf.keras.layers.Conv2D(64,(3,3), activation=\"relu\", input_shape=(150,150, 3))(image_data)\n",
    "# pool1 = tf.keras.layers.MaxPooling2D(2,2)(conv1)\n",
    "\n",
    "# # Convolution 2\n",
    "# conv2 = tf.keras.layers.Conv2D(64,(3,3), activation=\"relu\", input_shape=(150,150, 3))(pool1)\n",
    "# pool2 = tf.keras.layers.MaxPooling2D(2,2)(conv2)\n",
    "\n",
    "# # Convolution 3\n",
    "# conv3 = tf.keras.layers.Conv2D(128, (3,3), activation='relu')(pool2)\n",
    "# pool3 = tf.keras.layers.MaxPooling2D(2,2)(conv3)\n",
    "\n",
    "# # Convolution 3\n",
    "# conv4 = tf.keras.layers.Conv2D(128, (3,3), activation='relu')(pool3)\n",
    "# pool4 = tf.keras.layers.MaxPooling2D(2,2)(conv4)\n",
    "\n",
    "# # Flatten the results to feed into a DNN\n",
    "# image_layer = tf.keras.layers.Flatten()(pool4)\n",
    "\n",
    "# # Dropout to avoid overfitting\n",
    "# if training:\n",
    "#     image_layer = tf.keras.layers.Dropout(0.5)(image_layer)\n",
    "\n",
    "\n",
    "# # Add numerical data\n",
    "# hybrid = tf.concat([image_layer, num_data], axis=-1)\n",
    "# # Normalize\n",
    "# hybrid = tf.keras.layers.LayerNormalization(epsilon=1e-6)(hybrid)\n",
    "\n",
    "\n",
    "# # Final linear regression layer\n",
    "# # 512 neuron hidden layer\n",
    "# output = tf.keras.layers.Dense(512, activation='relu')\n",
    "\n",
    "# model = tf.keras.Model(inputs=[image_data, num_data], outputs=[output])\n",
    "\n"
   ]
  },
  {
   "cell_type": "code",
   "execution_count": null,
   "metadata": {},
   "outputs": [],
   "source": []
  }
 ],
 "metadata": {
  "kernelspec": {
   "display_name": "Python 3",
   "language": "python",
   "name": "python3"
  },
  "language_info": {
   "codemirror_mode": {
    "name": "ipython",
    "version": 3
   },
   "file_extension": ".py",
   "mimetype": "text/x-python",
   "name": "python",
   "nbconvert_exporter": "python",
   "pygments_lexer": "ipython3",
   "version": "3.8.10"
  },
  "vscode": {
   "interpreter": {
    "hash": "e4064c52d4217ebdd4ac8db2a3cc6d888959e6a2e5c1531a765d6a5305a4c25b"
   }
  }
 },
 "nbformat": 4,
 "nbformat_minor": 4
}

{
 "cells": [
  {
   "cell_type": "code",
   "execution_count": 1,
   "metadata": {},
   "outputs": [],
   "source": [
    "import tensorflow as tf\n",
    "from tensorflow.keras.applications.inception_v3 import InceptionV3\n",
    "from tensorflow.keras.preprocessing.image import ImageDataGenerator\n",
    "from tensorflow.keras import layers\n",
    "from tensorflow.keras import Model\n",
    "from tensorflow.keras.layers import Dense\n",
    "\n",
    "import pandas as pd\n",
    "import os\n",
    "\n",
    "import matplotlib.pyplot as plt"
   ]
  },
  {
   "cell_type": "code",
   "execution_count": 2,
   "metadata": {},
   "outputs": [
    {
     "name": "stdout",
     "output_type": "stream",
     "text": [
      "2.5.0\n"
     ]
    }
   ],
   "source": [
    "print(tf.__version__)"
   ]
  },
  {
   "cell_type": "markdown",
   "metadata": {},
   "source": [
    "## Notes\n",
    "\n",
    "\n",
    "Priority:\n",
    "\n",
    "- Use full dataset\n",
    "- CNN model (custom defined)\n",
    "- Trim off outliers (price more than a particular threshold)\n",
    "- Scale down target column or scale down loss (custom loss)\n",
    "- Hybrid model - Definitely do this\n",
    "- Check out data generator parameters\n",
    "\n",
    "Others:\n",
    "\n",
    "- Learning rate\n",
    "- Change activation function to maybe linear?\n",
    "- Optimizers\n",
    "- Unfreezing some of the lower layers\n",
    "- More epochs - upto 50?\n",
    "- Fewer units in dense layer\n",
    "- Higher batch size (8,16)"
   ]
  },
  {
   "cell_type": "code",
   "execution_count": 3,
   "metadata": {},
   "outputs": [],
   "source": [
    "# Load the training and validation dataset and labels\n",
    "\n",
    "train_label_df = pd.read_excel(\"dataset_splits/cleaned_train_data.xlsx\")\n",
    "test_label_df = pd.read_excel(\"dataset_splits/cleaned_test_data.xlsx\")"
   ]
  },
  {
   "cell_type": "code",
   "execution_count": 4,
   "metadata": {},
   "outputs": [
    {
     "data": {
      "text/plain": [
       "Index(['pictureid', 'bathroomcnt', 'bedroomcnt', 'calculatedbathnbr',\n",
       "       'calculatedfinishedsquarefeet', 'fullbathcnt', 'garagecarcnt',\n",
       "       'garagetotalsqft', 'latitude', 'longitude', 'lotsizesquarefeet',\n",
       "       'roomcnt', 'yearbuilt', 'numberofstories', 'taxvaluedollarcnt',\n",
       "       'assessmentyear', 'propertycountylandusecode_1',\n",
       "       'propertycountylandusecode_34', 'propertycountylandusecode_38',\n",
       "       'propertycountylandusecode_96', 'propertycountylandusecode_122',\n",
       "       'propertycountylandusecode_135', 'propertylandusetypeid_246',\n",
       "       'propertylandusetypeid_247', 'propertylandusetypeid_248',\n",
       "       'propertylandusetypeid_261', 'propertylandusetypeid_266',\n",
       "       'regionidcity_5465.0', 'regionidcity_6285.0', 'regionidcity_8384.0'],\n",
       "      dtype='object')"
      ]
     },
     "execution_count": 4,
     "metadata": {},
     "output_type": "execute_result"
    }
   ],
   "source": [
    "train_label_df.columns[:30]"
   ]
  },
  {
   "cell_type": "code",
   "execution_count": 5,
   "metadata": {},
   "outputs": [
    {
     "data": {
      "text/html": [
       "<div>\n",
       "<style scoped>\n",
       "    .dataframe tbody tr th:only-of-type {\n",
       "        vertical-align: middle;\n",
       "    }\n",
       "\n",
       "    .dataframe tbody tr th {\n",
       "        vertical-align: top;\n",
       "    }\n",
       "\n",
       "    .dataframe thead th {\n",
       "        text-align: right;\n",
       "    }\n",
       "</style>\n",
       "<table border=\"1\" class=\"dataframe\">\n",
       "  <thead>\n",
       "    <tr style=\"text-align: right;\">\n",
       "      <th></th>\n",
       "      <th>pictureid</th>\n",
       "      <th>bathroomcnt</th>\n",
       "      <th>bedroomcnt</th>\n",
       "      <th>calculatedbathnbr</th>\n",
       "      <th>calculatedfinishedsquarefeet</th>\n",
       "      <th>fullbathcnt</th>\n",
       "      <th>garagecarcnt</th>\n",
       "      <th>garagetotalsqft</th>\n",
       "      <th>latitude</th>\n",
       "      <th>longitude</th>\n",
       "      <th>...</th>\n",
       "      <th>censustractandblock_60590200000000</th>\n",
       "      <th>censustractandblock_60590300000000</th>\n",
       "      <th>censustractandblock_60590400000000</th>\n",
       "      <th>censustractandblock_60590500000000</th>\n",
       "      <th>censustractandblock_60590600000000</th>\n",
       "      <th>censustractandblock_60590700000000</th>\n",
       "      <th>censustractandblock_60590800000000</th>\n",
       "      <th>censustractandblock_60590900000000</th>\n",
       "      <th>censustractandblock_60591000000000</th>\n",
       "      <th>censustractandblock_60591100000000</th>\n",
       "    </tr>\n",
       "  </thead>\n",
       "  <tbody>\n",
       "    <tr>\n",
       "      <th>0</th>\n",
       "      <td>0</td>\n",
       "      <td>5.5</td>\n",
       "      <td>5</td>\n",
       "      <td>5.5</td>\n",
       "      <td>5042</td>\n",
       "      <td>5</td>\n",
       "      <td>4</td>\n",
       "      <td>988</td>\n",
       "      <td>33509223</td>\n",
       "      <td>-117672518</td>\n",
       "      <td>...</td>\n",
       "      <td>0</td>\n",
       "      <td>0</td>\n",
       "      <td>1</td>\n",
       "      <td>0</td>\n",
       "      <td>0</td>\n",
       "      <td>0</td>\n",
       "      <td>0</td>\n",
       "      <td>0</td>\n",
       "      <td>0</td>\n",
       "      <td>0</td>\n",
       "    </tr>\n",
       "    <tr>\n",
       "      <th>1</th>\n",
       "      <td>1</td>\n",
       "      <td>1.5</td>\n",
       "      <td>3</td>\n",
       "      <td>1.5</td>\n",
       "      <td>1695</td>\n",
       "      <td>1</td>\n",
       "      <td>1</td>\n",
       "      <td>360</td>\n",
       "      <td>33820017</td>\n",
       "      <td>-117971956</td>\n",
       "      <td>...</td>\n",
       "      <td>0</td>\n",
       "      <td>0</td>\n",
       "      <td>0</td>\n",
       "      <td>0</td>\n",
       "      <td>0</td>\n",
       "      <td>0</td>\n",
       "      <td>0</td>\n",
       "      <td>1</td>\n",
       "      <td>0</td>\n",
       "      <td>0</td>\n",
       "    </tr>\n",
       "    <tr>\n",
       "      <th>2</th>\n",
       "      <td>2</td>\n",
       "      <td>2.0</td>\n",
       "      <td>4</td>\n",
       "      <td>2.0</td>\n",
       "      <td>1460</td>\n",
       "      <td>2</td>\n",
       "      <td>2</td>\n",
       "      <td>456</td>\n",
       "      <td>33677514</td>\n",
       "      <td>-117954806</td>\n",
       "      <td>...</td>\n",
       "      <td>0</td>\n",
       "      <td>0</td>\n",
       "      <td>0</td>\n",
       "      <td>0</td>\n",
       "      <td>0</td>\n",
       "      <td>0</td>\n",
       "      <td>0</td>\n",
       "      <td>0</td>\n",
       "      <td>1</td>\n",
       "      <td>0</td>\n",
       "    </tr>\n",
       "    <tr>\n",
       "      <th>3</th>\n",
       "      <td>3</td>\n",
       "      <td>1.0</td>\n",
       "      <td>2</td>\n",
       "      <td>1.0</td>\n",
       "      <td>1296</td>\n",
       "      <td>1</td>\n",
       "      <td>1</td>\n",
       "      <td>288</td>\n",
       "      <td>33744721</td>\n",
       "      <td>-117863804</td>\n",
       "      <td>...</td>\n",
       "      <td>0</td>\n",
       "      <td>0</td>\n",
       "      <td>0</td>\n",
       "      <td>0</td>\n",
       "      <td>0</td>\n",
       "      <td>0</td>\n",
       "      <td>1</td>\n",
       "      <td>0</td>\n",
       "      <td>0</td>\n",
       "      <td>0</td>\n",
       "    </tr>\n",
       "    <tr>\n",
       "      <th>4</th>\n",
       "      <td>4</td>\n",
       "      <td>2.0</td>\n",
       "      <td>3</td>\n",
       "      <td>2.0</td>\n",
       "      <td>1397</td>\n",
       "      <td>2</td>\n",
       "      <td>1</td>\n",
       "      <td>360</td>\n",
       "      <td>33756060</td>\n",
       "      <td>-117875860</td>\n",
       "      <td>...</td>\n",
       "      <td>0</td>\n",
       "      <td>0</td>\n",
       "      <td>0</td>\n",
       "      <td>0</td>\n",
       "      <td>0</td>\n",
       "      <td>0</td>\n",
       "      <td>1</td>\n",
       "      <td>0</td>\n",
       "      <td>0</td>\n",
       "      <td>0</td>\n",
       "    </tr>\n",
       "  </tbody>\n",
       "</table>\n",
       "<p>5 rows × 169 columns</p>\n",
       "</div>"
      ],
      "text/plain": [
       "   pictureid  bathroomcnt  bedroomcnt  calculatedbathnbr  \\\n",
       "0          0          5.5           5                5.5   \n",
       "1          1          1.5           3                1.5   \n",
       "2          2          2.0           4                2.0   \n",
       "3          3          1.0           2                1.0   \n",
       "4          4          2.0           3                2.0   \n",
       "\n",
       "   calculatedfinishedsquarefeet  fullbathcnt  garagecarcnt  garagetotalsqft  \\\n",
       "0                          5042            5             4              988   \n",
       "1                          1695            1             1              360   \n",
       "2                          1460            2             2              456   \n",
       "3                          1296            1             1              288   \n",
       "4                          1397            2             1              360   \n",
       "\n",
       "   latitude  longitude  ...  censustractandblock_60590200000000  \\\n",
       "0  33509223 -117672518  ...                                   0   \n",
       "1  33820017 -117971956  ...                                   0   \n",
       "2  33677514 -117954806  ...                                   0   \n",
       "3  33744721 -117863804  ...                                   0   \n",
       "4  33756060 -117875860  ...                                   0   \n",
       "\n",
       "   censustractandblock_60590300000000  censustractandblock_60590400000000  \\\n",
       "0                                   0                                   1   \n",
       "1                                   0                                   0   \n",
       "2                                   0                                   0   \n",
       "3                                   0                                   0   \n",
       "4                                   0                                   0   \n",
       "\n",
       "   censustractandblock_60590500000000  censustractandblock_60590600000000  \\\n",
       "0                                   0                                   0   \n",
       "1                                   0                                   0   \n",
       "2                                   0                                   0   \n",
       "3                                   0                                   0   \n",
       "4                                   0                                   0   \n",
       "\n",
       "   censustractandblock_60590700000000  censustractandblock_60590800000000  \\\n",
       "0                                   0                                   0   \n",
       "1                                   0                                   0   \n",
       "2                                   0                                   0   \n",
       "3                                   0                                   1   \n",
       "4                                   0                                   1   \n",
       "\n",
       "   censustractandblock_60590900000000  censustractandblock_60591000000000  \\\n",
       "0                                   0                                   0   \n",
       "1                                   1                                   0   \n",
       "2                                   0                                   1   \n",
       "3                                   0                                   0   \n",
       "4                                   0                                   0   \n",
       "\n",
       "   censustractandblock_60591100000000  \n",
       "0                                   0  \n",
       "1                                   0  \n",
       "2                                   0  \n",
       "3                                   0  \n",
       "4                                   0  \n",
       "\n",
       "[5 rows x 169 columns]"
      ]
     },
     "execution_count": 5,
     "metadata": {},
     "output_type": "execute_result"
    }
   ],
   "source": [
    "train_label_df.head()"
   ]
  },
  {
   "cell_type": "code",
   "execution_count": 6,
   "metadata": {},
   "outputs": [
    {
     "data": {
      "text/plain": [
       "count    1.499900e+04\n",
       "mean     5.236140e+05\n",
       "std      6.055467e+05\n",
       "min      1.855600e+04\n",
       "25%      2.456040e+05\n",
       "50%      4.052130e+05\n",
       "75%      6.295750e+05\n",
       "max      2.164466e+07\n",
       "Name: taxvaluedollarcnt, dtype: float64"
      ]
     },
     "execution_count": 6,
     "metadata": {},
     "output_type": "execute_result"
    }
   ],
   "source": [
    "train_label_df[\"taxvaluedollarcnt\"].describe()"
   ]
  },
  {
   "cell_type": "code",
   "execution_count": 7,
   "metadata": {},
   "outputs": [],
   "source": [
    "train_label_df[\"target_scaled_down\"] = train_label_df[\"taxvaluedollarcnt\"]/1e5\n",
    "test_label_df[\"target_scaled_down\"] = test_label_df[\"taxvaluedollarcnt\"]/1e5"
   ]
  },
  {
   "cell_type": "code",
   "execution_count": 8,
   "metadata": {},
   "outputs": [
    {
     "data": {
      "text/plain": [
       "0    19.34378\n",
       "1     0.74865\n",
       "2     2.47381\n",
       "3     1.89652\n",
       "4     2.65259\n",
       "5     4.19110\n",
       "6     2.95834\n",
       "7     7.03539\n",
       "8     3.29780\n",
       "9     1.28322\n",
       "Name: target_scaled_down, dtype: float64"
      ]
     },
     "execution_count": 8,
     "metadata": {},
     "output_type": "execute_result"
    }
   ],
   "source": [
    "train_label_df[\"target_scaled_down\"][:10]"
   ]
  },
  {
   "cell_type": "code",
   "execution_count": 9,
   "metadata": {},
   "outputs": [
    {
     "data": {
      "text/plain": [
       "216.44655"
      ]
     },
     "execution_count": 9,
     "metadata": {},
     "output_type": "execute_result"
    }
   ],
   "source": [
    "train_label_df[\"target_scaled_down\"].max()"
   ]
  },
  {
   "cell_type": "code",
   "execution_count": 10,
   "metadata": {},
   "outputs": [
    {
     "data": {
      "image/png": "[encoded data removed]",
      "text/plain": [
       "<Figure size 720x504 with 1 Axes>"
      ]
     },
     "metadata": {
      "needs_background": "light"
     },
     "output_type": "display_data"
    }
   ],
   "source": [
    "\n",
    "from matplotlib import pyplot as plt\n",
    "import numpy as np\n",
    "\n",
    "fig, ax = plt.subplots(figsize =(10, 7))\n",
    "ax.hist(train_label_df[\"target_scaled_down\"], bins = 200)\n",
    "\n",
    "plt.show()"
   ]
  },
  {
   "cell_type": "code",
   "execution_count": 11,
   "metadata": {},
   "outputs": [
    {
     "name": "stdout",
     "output_type": "stream",
     "text": [
      "26.647402400000004\n"
     ]
    }
   ],
   "source": [
    "# Pick threshold to cut off outliers\n",
    "\n",
    "threshold_value_saved = np.percentile(np.array(train_label_df[\"target_scaled_down\"]), 99)\n",
    "print(threshold_value_saved)"
   ]
  },
  {
   "cell_type": "code",
   "execution_count": 12,
   "metadata": {},
   "outputs": [],
   "source": [
    "# 10,000,000"
   ]
  },
  {
   "cell_type": "code",
   "execution_count": 13,
   "metadata": {},
   "outputs": [],
   "source": [
    "# Removing outliers\n",
    "train_label_df = train_label_df.loc[train_label_df[\"target_scaled_down\"] < threshold_value_saved]\n",
    "test_label_df = test_label_df.loc[test_label_df[\"target_scaled_down\"] < threshold_value_saved]"
   ]
  },
  {
   "cell_type": "code",
   "execution_count": 14,
   "metadata": {},
   "outputs": [
    {
     "name": "stdout",
     "output_type": "stream",
     "text": [
      "Train df: 14849, test df: 4955\n"
     ]
    }
   ],
   "source": [
    "print(f\"Train df: {len(train_label_df)}, test df: {len(test_label_df)}\")"
   ]
  },
  {
   "cell_type": "code",
   "execution_count": 15,
   "metadata": {},
   "outputs": [],
   "source": [
    "train_datagen = ImageDataGenerator(\n",
    "    rescale = 1./255, \n",
    "    #horizontal_flip = None, \n",
    "    #fill_mode = \"nearest\", \n",
    "    #zoom_range = 2, \n",
    "    #width_shift_range = None, \n",
    "    #height_shift_range = None,\n",
    "    #rotation_range=None\n",
    ") "
   ]
  },
  {
   "cell_type": "code",
   "execution_count": 16,
   "metadata": {},
   "outputs": [],
   "source": [
    "train_label_df[\"picturepath\"] = train_label_df[\"pictureid\"].astype(str).apply(lambda x: f\"pic_{x}.png\")"
   ]
  },
  {
   "cell_type": "code",
   "execution_count": 17,
   "metadata": {},
   "outputs": [
    {
     "name": "stdout",
     "output_type": "stream",
     "text": [
      "Found 14849 validated image filenames.\n"
     ]
    }
   ],
   "source": [
    "train_generator = train_datagen.flow_from_dataframe(\n",
    "    dataframe = train_label_df, \n",
    "    directory = \"dataset_splits/all_data_pics/train_data_pics/\", \n",
    "    x_col = \"picturepath\", \n",
    "    y_col=\"target_scaled_down\", \n",
    "    class_mode = \"raw\", \n",
    "    target_size= (400, 400), \n",
    "    batch_size = 4\n",
    ")"
   ]
  },
  {
   "cell_type": "code",
   "execution_count": 18,
   "metadata": {},
   "outputs": [],
   "source": [
    "valid_datagen = ImageDataGenerator(\n",
    "    rescale = 1./255, \n",
    "    #horizontal_flip = None, \n",
    "    #fill_mode = \"nearest\", \n",
    "    #zoom_range = 2, \n",
    "    #width_shift_range = None, \n",
    "    #height_shift_range = None,\n",
    "    #rotation_range=None\n",
    ") "
   ]
  },
  {
   "cell_type": "code",
   "execution_count": 19,
   "metadata": {},
   "outputs": [],
   "source": [
    "test_label_df[\"picturepath\"] = test_label_df[\"pictureid\"].astype(str).apply(lambda x: f\"pic_{x}.png\")"
   ]
  },
  {
   "cell_type": "code",
   "execution_count": 20,
   "metadata": {},
   "outputs": [
    {
     "name": "stdout",
     "output_type": "stream",
     "text": [
      "Found 4955 validated image filenames.\n"
     ]
    }
   ],
   "source": [
    "validation_generator = valid_datagen.flow_from_dataframe(\n",
    "    dataframe = test_label_df, \n",
    "    directory = \"dataset_splits/all_data_pics/test_data_pics/\", \n",
    "    x_col = \"picturepath\", \n",
    "    y_col=\"target_scaled_down\", \n",
    "    class_mode = \"raw\", \n",
    "    target_size= (400, 400), \n",
    "    batch_size = 4\n",
    ")"
   ]
  },
  {
   "cell_type": "code",
   "execution_count": null,
   "metadata": {},
   "outputs": [],
   "source": []
  },
  {
   "cell_type": "markdown",
   "metadata": {},
   "source": [
    "### InceptionV3 model"
   ]
  },
  {
   "cell_type": "code",
   "execution_count": 21,
   "metadata": {},
   "outputs": [],
   "source": [
    "# create the base pre-trained model\n",
    "base_model = InceptionV3(\n",
    "    input_shape = ( 400, 400, 3), \n",
    "    weights='imagenet', \n",
    "    include_top=False\n",
    ")\n",
    "    \n",
    "# add a global spatial average pooling layer\n",
    "x = layers.Flatten()(base_model.output)\n",
    "\n",
    "# let's add a fully-connected layer\n",
    "x = Dense(1024, activation='relu')(x)\n",
    "\n",
    "# and a linear output layer\n",
    "prediction = Dense(1, activation='linear')(x)\n",
    "\n",
    "# this is the model we will train\n",
    "model = Model(inputs=base_model.input, outputs=prediction)\n",
    "\n",
    "# first: train only the top layers (which were randomly initialized)\n",
    "# i.e. freeze all convolutional InceptionV3 layers\n",
    "for layer in base_model.layers:\n",
    "    layer.trainable = False\n",
    "\n",
    "optimizer = tf.keras.optimizers.RMSprop(learning_rate=1e-9)\n",
    "\n",
    "# compile the model (should be done *after* setting layers to non trainable)\n",
    "model.compile(\n",
    "    optimizer=optimizer,#'rmsprop' , \n",
    "    loss='mean_absolute_error', \n",
    "    metrics = [tf.keras.metrics.MeanSquaredError(name='mean_squared_error', dtype=None),\n",
    "               tf.keras.metrics.MeanAbsolutePercentageError(name='mean_absolute_percentage_error', dtype=None)],\n",
    ") #'rmsprop'"
   ]
  },
  {
   "cell_type": "code",
   "execution_count": 22,
   "metadata": {},
   "outputs": [],
   "source": [
    "checkpoint_path = \"InceptionV3_checkpoints/v2.0.0/checkpoint.hdf5\""
   ]
  },
  {
   "cell_type": "code",
   "execution_count": 23,
   "metadata": {},
   "outputs": [],
   "source": [
    "# # Load model from checkpoint\n",
    "# try: \n",
    "#     print('** trying to load latest checkpoint')\n",
    "#     model.load_weights( checkpoint_path )\n",
    "#     print('** loaded latest checkpoint')\n",
    "# except OSError:\n",
    "#     print('** loading model from scratch')"
   ]
  },
  {
   "cell_type": "code",
   "execution_count": 24,
   "metadata": {},
   "outputs": [],
   "source": [
    "# If steps per epoch is 250, in 2 epochs model trains over 250*2*4 = 2000 examples, \n",
    "# i.e. 1 pass over the whole training dataset"
   ]
  },
  {
   "cell_type": "code",
   "execution_count": 25,
   "metadata": {},
   "outputs": [],
   "source": [
    "checkpoint_dir = \"InceptionV3_checkpoints/v2.0.0\""
   ]
  },
  {
   "cell_type": "code",
   "execution_count": 26,
   "metadata": {},
   "outputs": [],
   "source": [
    "if not os.path.exists(checkpoint_dir):\n",
    "    os.mkdir(checkpoint_dir)"
   ]
  },
  {
   "cell_type": "code",
   "execution_count": 27,
   "metadata": {},
   "outputs": [
    {
     "name": "stdout",
     "output_type": "stream",
     "text": [
      "Epoch 1/15\n",
      "250/250 [==============================] - 57s 205ms/step - loss: 3.5083 - mean_squared_error: 25.5536 - mean_absolute_percentage_error: 71.1416 - val_loss: 3.2688 - val_mean_squared_error: 23.1401 - val_mean_absolute_percentage_error: 68.8846\n",
      "Epoch 2/15\n",
      "250/250 [==============================] - 44s 176ms/step - loss: 3.2973 - mean_squared_error: 23.0332 - mean_absolute_percentage_error: 71.2353 - val_loss: 3.1780 - val_mean_squared_error: 22.2694 - val_mean_absolute_percentage_error: 69.2081\n",
      "Epoch 3/15\n",
      "250/250 [==============================] - 44s 177ms/step - loss: 3.1704 - mean_squared_error: 21.0371 - mean_absolute_percentage_error: 71.2775 - val_loss: 3.0986 - val_mean_squared_error: 21.4965 - val_mean_absolute_percentage_error: 69.8064\n",
      "Epoch 4/15\n",
      "250/250 [==============================] - 44s 178ms/step - loss: 3.2426 - mean_squared_error: 23.6669 - mean_absolute_percentage_error: 72.4253 - val_loss: 3.0271 - val_mean_squared_error: 20.7938 - val_mean_absolute_percentage_error: 70.6147\n",
      "Epoch 5/15\n",
      "250/250 [==============================] - 44s 177ms/step - loss: 2.9608 - mean_squared_error: 20.3318 - mean_absolute_percentage_error: 72.2766 - val_loss: 2.9678 - val_mean_squared_error: 20.1941 - val_mean_absolute_percentage_error: 71.5681\n",
      "Epoch 6/15\n",
      "250/250 [==============================] - 46s 184ms/step - loss: 3.2300 - mean_squared_error: 23.2816 - mean_absolute_percentage_error: 75.0133 - val_loss: 2.9144 - val_mean_squared_error: 19.6355 - val_mean_absolute_percentage_error: 72.7177\n",
      "Epoch 7/15\n",
      "250/250 [==============================] - 44s 177ms/step - loss: 2.8649 - mean_squared_error: 18.8211 - mean_absolute_percentage_error: 74.5437 - val_loss: 2.8727 - val_mean_squared_error: 19.1891 - val_mean_absolute_percentage_error: 73.8053\n",
      "Epoch 8/15\n",
      "250/250 [==============================] - 44s 174ms/step - loss: 2.9319 - mean_squared_error: 19.0546 - mean_absolute_percentage_error: 74.8263 - val_loss: 2.8328 - val_mean_squared_error: 18.7498 - val_mean_absolute_percentage_error: 75.0587\n",
      "Epoch 9/15\n",
      "250/250 [==============================] - 44s 176ms/step - loss: 2.9837 - mean_squared_error: 20.5146 - mean_absolute_percentage_error: 78.9461 - val_loss: 2.8019 - val_mean_squared_error: 18.3985 - val_mean_absolute_percentage_error: 76.1719\n",
      "Epoch 10/15\n",
      "250/250 [==============================] - 44s 175ms/step - loss: 2.8274 - mean_squared_error: 19.0643 - mean_absolute_percentage_error: 74.2199 - val_loss: 2.7726 - val_mean_squared_error: 18.0562 - val_mean_absolute_percentage_error: 77.4256\n",
      "Epoch 11/15\n",
      "250/250 [==============================] - 44s 178ms/step - loss: 2.7158 - mean_squared_error: 17.1082 - mean_absolute_percentage_error: 81.6955 - val_loss: 2.7496 - val_mean_squared_error: 17.7791 - val_mean_absolute_percentage_error: 78.5324\n",
      "Epoch 12/15\n",
      "250/250 [==============================] - ETA: 0s - loss: 2.7031 - mean_squared_error: 16.5915 - mean_absolute_percentage_error: 76.2582\n",
      "Epoch 00012: saving model to InceptionV3_checkpoints/v2.0.0/checkpoint.hdf5\n",
      "250/250 [==============================] - 47s 187ms/step - loss: 2.7031 - mean_squared_error: 16.5915 - mean_absolute_percentage_error: 76.2582 - val_loss: 2.7273 - val_mean_squared_error: 17.4973 - val_mean_absolute_percentage_error: 79.8165\n",
      "Epoch 13/15\n",
      "250/250 [==============================] - 45s 179ms/step - loss: 2.5833 - mean_squared_error: 14.2137 - mean_absolute_percentage_error: 81.5767 - val_loss: 2.7091 - val_mean_squared_error: 17.2584 - val_mean_absolute_percentage_error: 80.9851\n",
      "Epoch 14/15\n",
      "250/250 [==============================] - 45s 179ms/step - loss: 2.7633 - mean_squared_error: 17.2716 - mean_absolute_percentage_error: 84.6513 - val_loss: 2.6957 - val_mean_squared_error: 17.0782 - val_mean_absolute_percentage_error: 81.9056\n",
      "Epoch 15/15\n",
      "250/250 [==============================] - 45s 180ms/step - loss: 2.7422 - mean_squared_error: 18.0300 - mean_absolute_percentage_error: 78.0547 - val_loss: 2.6827 - val_mean_squared_error: 16.8928 - val_mean_absolute_percentage_error: 82.9468\n"
     ]
    }
   ],
   "source": [
    "# Train\n",
    "history = model.fit(\n",
    "    train_generator,\n",
    "    validation_data = validation_generator,\n",
    "    epochs=15,\n",
    "    steps_per_epoch=250,\n",
    "    callbacks=[\n",
    "        tf.keras.callbacks.ModelCheckpoint( \n",
    "            filepath = f'{checkpoint_dir}/checkpoint.hdf5',\n",
    "            save_weights_only = True, \n",
    "            verbose = 1, \n",
    "            save_freq = 3000, # Save every 2000 batches/steps\n",
    "        ),\n",
    "        #tf.keras.callbacks.EarlyStopping( monitor='loss', patience=3 ),\n",
    "    ],\n",
    "    verbose=1\n",
    ")"
   ]
  },
  {
   "cell_type": "code",
   "execution_count": 28,
   "metadata": {},
   "outputs": [],
   "source": [
    "history_df = pd.DataFrame(history.history) "
   ]
  },
  {
   "cell_type": "code",
   "execution_count": 29,
   "metadata": {},
   "outputs": [],
   "source": [
    "# Plot utility\n",
    "def plot_graphs(history_object_df, string):\n",
    "  plt.plot(history_object_df[string])\n",
    "\n",
    "  if \"val_loss\" in history_object_df.columns:\n",
    "    plt.plot(history_object_df['val_'+string])\n",
    "    plt.xlabel(\"Epochs\")\n",
    "    plt.ylabel(string)\n",
    "    plt.legend([string, 'val_'+string])\n",
    "    plt.show()\n",
    "\n",
    "  else:\n",
    "    plt.xlabel(\"Epochs\")\n",
    "    plt.ylabel(string)\n",
    "    plt.legend([string, 'val_'+string])\n",
    "    plt.show()"
   ]
  },
  {
   "cell_type": "code",
   "execution_count": 30,
   "metadata": {},
   "outputs": [
    {
     "data": {
      "image/png": "[encoded data removed]",
      "text/plain": [
       "<Figure size 432x288 with 1 Axes>"
      ]
     },
     "metadata": {
      "needs_background": "light"
     },
     "output_type": "display_data"
    }
   ],
   "source": [
    "# # rmsprop 10 epochs, 4 batch size\n",
    "plot_graphs(history_df, \"loss\")"
   ]
  },
  {
   "cell_type": "code",
   "execution_count": null,
   "metadata": {},
   "outputs": [],
   "source": []
  }
 ],
 "metadata": {
  "kernelspec": {
   "display_name": "Python 3",
   "language": "python",
   "name": "python3"
  },
  "language_info": {
   "codemirror_mode": {
    "name": "ipython",
    "version": 3
   },
   "file_extension": ".py",
   "mimetype": "text/x-python",
   "name": "python",
   "nbconvert_exporter": "python",
   "pygments_lexer": "ipython3",
   "version": "3.8.10"
  },
  "vscode": {
   "interpreter": {
    "hash": "e4064c52d4217ebdd4ac8db2a3cc6d888959e6a2e5c1531a765d6a5305a4c25b"
   }
  }
 },
 "nbformat": 4,
 "nbformat_minor": 4
}

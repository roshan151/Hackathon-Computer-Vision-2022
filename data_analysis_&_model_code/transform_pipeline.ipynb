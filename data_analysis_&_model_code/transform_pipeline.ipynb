{
 "cells": [
  {
   "cell_type": "markdown",
   "metadata": {},
   "source": [
    "## Import packages"
   ]
  },
  {
   "cell_type": "code",
   "execution_count": 1,
   "metadata": {},
   "outputs": [],
   "source": [
    "import numpy as np # linear algebra\n",
    "import pandas as pd # data processing, CSV file I/O (e.g. pd.read_csv)\n",
    "pd.set_option('display.max_columns', 500)\n",
    "\n",
    "import matplotlib.pyplot as plt\n",
    "import seaborn as sns\n",
    "color = sns.color_palette()\n",
    "from sklearn.preprocessing import OneHotEncoder\n",
    "\n",
    "import pickle\n",
    "\n",
    "%matplotlib inline"
   ]
  },
  {
   "cell_type": "markdown",
   "metadata": {},
   "source": [
    "## Read data"
   ]
  },
  {
   "cell_type": "code",
   "execution_count": 2,
   "metadata": {},
   "outputs": [],
   "source": [
    "train_df = pd.read_excel(f'dataset_splits/train_datset.xlsx')\n",
    "eval_df = pd.read_excel(f'dataset_splits/test_datset.xlsx')"
   ]
  },
  {
   "cell_type": "code",
   "execution_count": 3,
   "metadata": {},
   "outputs": [],
   "source": [
    "def innovate_transform(transform_df: pd.DataFrame, train_df: pd.DataFrame):\n",
    "\n",
    "    null_columns_names = ['airconditioningtypeid', 'architecturalstyletypeid',\n",
    "       'basementsqft', 'buildingclasstypeid', 'buildingqualitytypeid',\n",
    "       'decktypeid', 'finishedfloor1squarefeet', 'finishedsquarefeet13',\n",
    "       'finishedsquarefeet15', 'finishedsquarefeet50',\n",
    "       'finishedsquarefeet6', 'fireplacecnt', 'hashottuborspa',\n",
    "       'heatingorsystemtypeid', 'poolcnt', 'poolsizesum', 'pooltypeid10',\n",
    "       'pooltypeid2', 'pooltypeid7', 'propertyzoningdesc',\n",
    "       'regionidneighborhood', 'storytypeid', 'threequarterbathnbr',\n",
    "       'typeconstructiontypeid', 'unitcnt', 'yardbuildingsqft17',\n",
    "       'yardbuildingsqft26', 'fireplaceflag', 'taxdelinquencyflag',\n",
    "       'taxdelinquencyyear']\n",
    "\n",
    "    transform_df.drop(columns = null_columns_names, inplace=True)\n",
    "\n",
    "    dropped_columns_names = ['Unnamed: 0', 'fips', 'regionidcounty', 'structuretaxvaluedollarcnt',\n",
    "                        'landtaxvaluedollarcnt', 'taxamount', 'parcelid', 'finishedsquarefeet12',\n",
    "                        'rawcensustractandblock'\n",
    "                        ]\n",
    "\n",
    "    transform_df.drop(columns = dropped_columns_names, inplace=True)\n",
    "\n",
    "    transform_df['garagetotalsqft'].fillna(train_df['garagetotalsqft'].median(), inplace=True)\n",
    "    transform_df['numberofstories'].fillna(train_df['numberofstories'].mode()[0], inplace=True)\n",
    "    transform_df['regionidcity'].fillna(train_df['regionidcity'].mode()[0], inplace=True)\n",
    "    transform_df['garagecarcnt'].fillna(train_df['garagecarcnt'].mode()[0], inplace=True)\n",
    "\n",
    "    transform_df = transform_df.dropna(subset=['regionidzip']).reset_index(drop=True)\n",
    "\n",
    "    need_encoded_columns = ['propertycountylandusecode',\n",
    "                         'propertylandusetypeid', \n",
    "                         'regionidcity', 'regionidzip', 'censustractandblock']\n",
    "\n",
    "    \n",
    "    with open('one-hot-encoder.pkl', 'rb') as f:\n",
    "        encoder = pickle.load(f)\n",
    "\n",
    "    column_names = encoder.get_feature_names(need_encoded_columns)\n",
    "\n",
    "    encoded_features = pd.DataFrame(encoder.transform(transform_df[need_encoded_columns]).toarray(), columns = column_names)\n",
    "\n",
    "    transform_df.drop(columns = need_encoded_columns, inplace=True)\n",
    "\n",
    "    processed_df = pd.concat([transform_df, encoded_features], axis = 1)\n",
    "\n",
    "    return processed_df"
   ]
  },
  {
   "cell_type": "code",
   "execution_count": 4,
   "metadata": {},
   "outputs": [
    {
     "name": "stderr",
     "output_type": "stream",
     "text": [
      "/Users/SPeruri/miniforge3/envs/tf_eebbc_uk/lib/python3.8/site-packages/sklearn/utils/deprecation.py:87: FutureWarning: Function get_feature_names is deprecated; get_feature_names is deprecated in 1.0 and will be removed in 1.2. Please use get_feature_names_out instead.\n",
      "  warnings.warn(msg, category=FutureWarning)\n"
     ]
    }
   ],
   "source": [
    "processed_df = innovate_transform(eval_df, train_df)"
   ]
  },
  {
   "cell_type": "code",
   "execution_count": 5,
   "metadata": {},
   "outputs": [
    {
     "name": "stdout",
     "output_type": "stream",
     "text": [
      "<class 'pandas.core.frame.DataFrame'>\n",
      "RangeIndex: 5000 entries, 0 to 4999\n",
      "Columns: 169 entries, pictureid to censustractandblock_60591100000000\n",
      "dtypes: float64(158), int64(11)\n",
      "memory usage: 6.4 MB\n"
     ]
    }
   ],
   "source": [
    "processed_df.info()"
   ]
  },
  {
   "cell_type": "code",
   "execution_count": null,
   "metadata": {},
   "outputs": [],
   "source": []
  }
 ],
 "metadata": {
  "kernelspec": {
   "display_name": "Python 3.8.13 ('tf_eebbc_uk')",
   "language": "python",
   "name": "python3"
  },
  "language_info": {
   "codemirror_mode": {
    "name": "ipython",
    "version": 3
   },
   "file_extension": ".py",
   "mimetype": "text/x-python",
   "name": "python",
   "nbconvert_exporter": "python",
   "pygments_lexer": "ipython3",
   "version": "3.8.13"
  },
  "orig_nbformat": 4,
  "vscode": {
   "interpreter": {
    "hash": "011686ad82d26554e8e3de94b4dc7a56d8cdb70fb91d76254c993e0123a02c0c"
   }
  }
 },
 "nbformat": 4,
 "nbformat_minor": 2
}
